{
 "cells": [
  {
   "cell_type": "code",
   "execution_count": 10,
   "source": [
    "from ner_processing import create_results\r\n",
    "import pandas as pd\r\n",
    "\r\n",
    "# TODO: Refactor the code to update_database\r\n"
   ],
   "outputs": [],
   "metadata": {}
  },
  {
   "cell_type": "code",
   "execution_count": 27,
   "source": [
    "data_input = pd.read_csv(\"input_data_raw_10082021.csv\")\r\n",
    "data_input_new = data_input.head((data_input.shape[0]//4))\r\n",
    "\r\n",
    "\r\n"
   ],
   "outputs": [
    {
     "output_type": "stream",
     "name": "stderr",
     "text": [
      "C:\\ProgramData\\Anaconda3\\lib\\site-packages\\pandas\\core\\frame.py:4308: SettingWithCopyWarning: \n",
      "A value is trying to be set on a copy of a slice from a DataFrame\n",
      "\n",
      "See the caveats in the documentation: https://pandas.pydata.org/pandas-docs/stable/user_guide/indexing.html#returning-a-view-versus-a-copy\n",
      "  return super().drop(\n"
     ]
    }
   ],
   "metadata": {}
  },
  {
   "cell_type": "code",
   "execution_count": 23,
   "source": [
    "data_input_new.size"
   ],
   "outputs": [
    {
     "output_type": "execute_result",
     "data": {
      "text/plain": [
       "980240"
      ]
     },
     "metadata": {},
     "execution_count": 23
    }
   ],
   "metadata": {}
  },
  {
   "cell_type": "code",
   "execution_count": 24,
   "source": [
    "data_input_new.to_csv(\"input_data_raw_10082021.csv\")"
   ],
   "outputs": [],
   "metadata": {}
  },
  {
   "cell_type": "code",
   "execution_count": 36,
   "source": [
    "data_input_new_corr = pd.read_csv(\"input_data_raw_10082021.csv\")\r\n",
    "data_input_new_corr.drop(data_input_new_corr.filter(regex=\"Unnamed\"),axis=1, inplace=True)\r\n",
    "data_input_new_corr.to_csv(\"input_data_raw_10082021.csv\")"
   ],
   "outputs": [],
   "metadata": {}
  },
  {
   "cell_type": "code",
   "execution_count": 40,
   "source": [
    "filtered = data_input_new_corr[(data_input_new_corr[\"OverallStatus\"] == \"Completed\") & (data_input_new_corr[\"WhyStopped\"].astype(str) == \"nan\")]\r\n",
    "export = filtered.drop(columns=[\"WhyStopped\", \"OverallStatus\"], axis = 1)\r\n",
    "export.drop(export.filter(regex=\"Unnamed\"),axis=1, inplace=True)\r\n",
    "export.to_csv(\"input_data_filtered.csv\")"
   ],
   "outputs": [],
   "metadata": {}
  },
  {
   "cell_type": "code",
   "execution_count": 41,
   "source": [
    "create_results()"
   ],
   "outputs": [],
   "metadata": {}
  }
 ],
 "metadata": {
  "orig_nbformat": 4,
  "language_info": {
   "name": "python",
   "version": "3.8.8",
   "mimetype": "text/x-python",
   "codemirror_mode": {
    "name": "ipython",
    "version": 3
   },
   "pygments_lexer": "ipython3",
   "nbconvert_exporter": "python",
   "file_extension": ".py"
  },
  "kernelspec": {
   "name": "python3",
   "display_name": "Python 3.8.8 64-bit ('base': conda)"
  },
  "interpreter": {
   "hash": "b3ba2566441a7c06988d0923437866b63cedc61552a5af99d1f4fb67d367b25f"
  }
 },
 "nbformat": 4,
 "nbformat_minor": 2
}