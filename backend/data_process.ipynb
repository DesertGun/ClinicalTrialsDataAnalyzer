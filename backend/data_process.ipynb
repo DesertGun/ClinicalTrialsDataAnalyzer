{
 "cells": [
  {
   "cell_type": "markdown",
   "metadata": {},
   "source": [
    "### Prototype data Precessing with Spacy"
   ]
  },
  {
   "cell_type": "markdown",
   "metadata": {},
   "source": [
    "1. Import model\r\n",
    "2. Import database\r\n",
    "3. iterate through database and label the data\r\n",
    "4. Create DF with labeled data as features\r\n",
    "5. Export DF as 'results.csv'"
   ]
  },
  {
   "cell_type": "code",
   "execution_count": 1,
   "metadata": {},
   "outputs": [],
   "source": [
    "import spacy\r\n",
    "import pandas as pd \r\n",
    "import numpy as np "
   ]
  },
  {
   "cell_type": "code",
   "execution_count": 2,
   "metadata": {},
   "outputs": [],
   "source": [
    "# Loading the Model\r\n",
    "\r\n",
    "nlp = spacy.load(\"../training/test_model\")"
   ]
  },
  {
   "cell_type": "code",
   "execution_count": 3,
   "metadata": {},
   "outputs": [],
   "source": [
    "# Loading the input_data\r\n",
    "\r\n",
    "data = pd.read_csv(\"input_data_filtered.csv\")"
   ]
  },
  {
   "cell_type": "code",
   "execution_count": 4,
   "metadata": {},
   "outputs": [],
   "source": [
    "data[\"PrimaryOutcomeMeasure\"] = data[\"PrimaryOutcomeMeasure\"].astype(str)\r\n",
    "data[\"PrimaryTimeFrame\"] = data[\"PrimaryTimeFrame\"].astype(str)\r\n",
    "data[\"SecondaryOutcomeMeasure\"] = data[\"SecondaryOutcomeMeasure\"].astype(str)\r\n",
    "data[\"SecondaryTimeFrame\"] = data[\"SecondaryTimeFrame\"].astype(str)"
   ]
  },
  {
   "cell_type": "code",
   "execution_count": 5,
   "metadata": {},
   "outputs": [],
   "source": [
    "data_result_df = pd.DataFrame(columns=[\"NCTId\", \"Condition\", 'Change', \"Reference\", \"Variable\",\"Timepoint\"])"
   ]
  },
  {
   "cell_type": "code",
   "execution_count": 6,
   "metadata": {},
   "outputs": [
    {
     "data": {
      "text/html": "<div>\n<style scoped>\n    .dataframe tbody tr th:only-of-type {\n        vertical-align: middle;\n    }\n\n    .dataframe tbody tr th {\n        vertical-align: top;\n    }\n\n    .dataframe thead th {\n        text-align: right;\n    }\n</style>\n<table border=\"1\" class=\"dataframe\">\n  <thead>\n    <tr style=\"text-align: right;\">\n      <th></th>\n      <th>NCTId</th>\n      <th>Condition</th>\n      <th>Change</th>\n      <th>Reference</th>\n      <th>Variable</th>\n      <th>Timepoint</th>\n    </tr>\n  </thead>\n  <tbody>\n  </tbody>\n</table>\n</div>",
      "text/plain": "Empty DataFrame\nColumns: [NCTId, Condition, Change, Reference, Variable, Timepoint]\nIndex: []"
     },
     "execution_count": 6,
     "metadata": {},
     "output_type": "execute_result"
    }
   ],
   "source": [
    "data_result_df"
   ]
  },
  {
   "cell_type": "code",
   "execution_count": 132,
   "metadata": {},
   "outputs": [],
   "source": [
    "# Iteration through data \r\n",
    "# TODO: Remove Measurment-Title ???\r\n",
    "\r\n",
    "\r\n",
    "\r\n",
    "def data_to_dataframe(data):\r\n",
    "    dfTest = pd.DataFrame(columns=[\"NCTId\",\"Condition\",\"Change\",\"Reference\", \"Variable\", \"Timepoint\"])\r\n",
    "\r\n",
    "    for index, row in data.iterrows():\r\n",
    "        pointer = 0\r\n",
    "        trial_id = row[1]\r\n",
    "\r\n",
    "        condition = row[2]\r\n",
    "        \r\n",
    "        primary_endpoint = row[3]\r\n",
    "        primary_endpoints = []\r\n",
    "\r\n",
    "        primary_endpoint_timepoint = row[4]\r\n",
    "        primary_endpoint_timepoints = []\r\n",
    "\r\n",
    "        secondary_endpoint = row[5]\r\n",
    "        secondary_endpoints = []\r\n",
    "\r\n",
    "        secondary_endpoint_timepoint = row[6]\r\n",
    "        secondary_endpoint_timepoints = []\r\n",
    "        \r\n",
    "        if  primary_endpoint.find(\"|\") != -1:\r\n",
    "            primary_endpoints = primary_endpoint.split(\"|\")\r\n",
    "\r\n",
    "        if  primary_endpoint_timepoint.find(\"|\") != -1:\r\n",
    "            primary_endpoint_timepoints = primary_endpoint_timepoint.split(\"|\")\r\n",
    "\r\n",
    "        if  secondary_endpoint.find(\"|\") != -1:\r\n",
    "            secondary_endpoints = secondary_endpoint.split('|')\r\n",
    "\r\n",
    "        if  secondary_endpoint_timepoint.find(\"|\") != -1:\r\n",
    "            secondary_endpoint_timepoints = secondary_endpoint_timepoint.split('|')\r\n",
    "        \r\n",
    "        if primary_endpoints == []:\r\n",
    "            endpoint_art = \"Primary_endpoint\"\r\n",
    "            dfTemp = process_text_entry(trial_id, condition, primary_endpoint, endpoint_art, pointer)\r\n",
    "            dfTest = dfTest.append(dfTemp, ignore_index= True)\r\n",
    "        else:\r\n",
    "            for point in primary_endpoints:\r\n",
    "                endpoint_art = \"Primary_endpoint\"\r\n",
    "                dfTemp = process_text_entry(trial_id, condition, point, endpoint_art, pointer)\r\n",
    "                dfTest = dfTest.append(dfTemp, ignore_index= True)\r\n",
    "\r\n",
    "\r\n",
    "        if secondary_endpoints == []:\r\n",
    "            endpoint_art=\"Secondary_endpoint\"\r\n",
    "            dfTemp = process_text_entry(trial_id, condition, secondary_endpoint, endpoint_art, pointer)\r\n",
    "            dfTest = dfTest.append(dfTemp, ignore_index= True)\r\n",
    "        else:\r\n",
    "            for point in secondary_endpoints:\r\n",
    "                endpoint_art = \"Secondary_endpoint\"\r\n",
    "                dfTemp = process_text_entry(trial_id, condition, point,endpoint_art, pointer)\r\n",
    "                dfTest = dfTest.append(dfTemp, ignore_index= True)\r\n",
    "                pointer+=1\r\n",
    "\r\n",
    "    return dfTest\r\n"
   ]
  },
  {
   "cell_type": "code",
   "execution_count": 128,
   "metadata": {},
   "outputs": [],
   "source": [
    "def process_text_entry(nctid, condition, text, endpoint_art, pointer):\r\n",
    "    dfTemp = pd.DataFrame(columns=[\"NCTId\",\"Condition\",\"Change\",\"Reference\", \"Variable\", \"Timepoint\", \"Endpoint Art\"])\r\n",
    "\r\n",
    "    target = nlp(text)\r\n",
    "    for entity in target.ents:\r\n",
    "        dfTemp.at[pointer,\"NCTId\"]=nctid\r\n",
    "        dfTemp.at[pointer,\"Condition\"]=condition\r\n",
    "        if entity.label_ != \"Condition\":\r\n",
    "            dfTemp[entity.label_]=entity.text\r\n",
    "        dfTemp.at[pointer,\"Endpoint Art\"]=endpoint_art\r\n",
    "    return dfTemp\r\n"
   ]
  },
  {
   "cell_type": "markdown",
   "metadata": {},
   "source": []
  },
  {
   "cell_type": "code",
   "execution_count": 133,
   "metadata": {},
   "outputs": [],
   "source": [
    "\r\n",
    "results_df = data_to_dataframe(data)"
   ]
  },
  {
   "cell_type": "code",
   "execution_count": 134,
   "metadata": {},
   "outputs": [
    {
     "data": {
      "text/html": "<div>\n<style scoped>\n    .dataframe tbody tr th:only-of-type {\n        vertical-align: middle;\n    }\n\n    .dataframe tbody tr th {\n        vertical-align: top;\n    }\n\n    .dataframe thead th {\n        text-align: right;\n    }\n</style>\n<table border=\"1\" class=\"dataframe\">\n  <thead>\n    <tr style=\"text-align: right;\">\n      <th></th>\n      <th>NCTId</th>\n      <th>Condition</th>\n      <th>Change</th>\n      <th>Reference</th>\n      <th>Variable</th>\n      <th>Timepoint</th>\n      <th>Endpoint Art</th>\n    </tr>\n  </thead>\n  <tbody>\n    <tr>\n      <th>0</th>\n      <td>NCT01814787</td>\n      <td>Type 2 Diabetes</td>\n      <td>Number of Children</td>\n      <td>NaN</td>\n      <td>Documented Risk Factors</td>\n      <td>NaN</td>\n      <td>Primary_endpoint</td>\n    </tr>\n    <tr>\n      <th>1</th>\n      <td>NCT01346033</td>\n      <td>Type 2 Diabetes</td>\n      <td>NaN</td>\n      <td>Validation</td>\n      <td>SCOUT DS algorithm</td>\n      <td>NaN</td>\n      <td>Primary_endpoint</td>\n    </tr>\n    <tr>\n      <th>2</th>\n      <td>NCT04765631</td>\n      <td>Type 2 Diabetes</td>\n      <td>outcome</td>\n      <td>comparison</td>\n      <td>total volumetric bone mineral density (vBMD)</td>\n      <td>NaN</td>\n      <td>Primary_endpoint</td>\n    </tr>\n    <tr>\n      <th>3</th>\n      <td>NCT03979768</td>\n      <td>Type2 Diabetes</td>\n      <td>Number of Participants</td>\n      <td>NaN</td>\n      <td>NaN</td>\n      <td>NaN</td>\n      <td>Primary_endpoint</td>\n    </tr>\n    <tr>\n      <th>4</th>\n      <td>NCT03979768</td>\n      <td>Type2 Diabetes</td>\n      <td>number of participants</td>\n      <td>NaN</td>\n      <td>HbA1c-measurement (HbA1c-group)</td>\n      <td>NaN</td>\n      <td>Secondary_endpoint</td>\n    </tr>\n    <tr>\n      <th>...</th>\n      <td>...</td>\n      <td>...</td>\n      <td>...</td>\n      <td>...</td>\n      <td>...</td>\n      <td>...</td>\n      <td>...</td>\n    </tr>\n    <tr>\n      <th>321</th>\n      <td>NCT01755468</td>\n      <td>Type 2 Diabetes</td>\n      <td>NaN</td>\n      <td>Baseline</td>\n      <td>NaN</td>\n      <td>2-years</td>\n      <td>Secondary_endpoint</td>\n    </tr>\n    <tr>\n      <th>322</th>\n      <td>NCT04363710</td>\n      <td>Type 2 Diabetes Mellitus in Obese</td>\n      <td>NaN</td>\n      <td>percentage</td>\n      <td>HbA1c</td>\n      <td>NaN</td>\n      <td>Primary_endpoint</td>\n    </tr>\n    <tr>\n      <th>323</th>\n      <td>NCT04363710</td>\n      <td>Type 2 Diabetes Mellitus in Obese</td>\n      <td>NaN</td>\n      <td>liter</td>\n      <td>Fasting Insulin Level</td>\n      <td>NaN</td>\n      <td>Primary_endpoint</td>\n    </tr>\n    <tr>\n      <th>324</th>\n      <td>NCT04363710</td>\n      <td>Type 2 Diabetes Mellitus in Obese</td>\n      <td>NaN</td>\n      <td>BMI</td>\n      <td>Weight</td>\n      <td>NaN</td>\n      <td>Primary_endpoint</td>\n    </tr>\n    <tr>\n      <th>325</th>\n      <td>NCT00562029</td>\n      <td>Type 2 Diabetes Mellitus</td>\n      <td>NaN</td>\n      <td>Resolution</td>\n      <td>NaN</td>\n      <td>NaN</td>\n      <td>Primary_endpoint</td>\n    </tr>\n  </tbody>\n</table>\n<p>326 rows × 7 columns</p>\n</div>",
      "text/plain": "           NCTId                          Condition                  Change  \\\n0    NCT01814787                    Type 2 Diabetes      Number of Children   \n1    NCT01346033                    Type 2 Diabetes                     NaN   \n2    NCT04765631                    Type 2 Diabetes                 outcome   \n3    NCT03979768                     Type2 Diabetes  Number of Participants   \n4    NCT03979768                     Type2 Diabetes  number of participants   \n..           ...                                ...                     ...   \n321  NCT01755468                    Type 2 Diabetes                     NaN   \n322  NCT04363710  Type 2 Diabetes Mellitus in Obese                     NaN   \n323  NCT04363710  Type 2 Diabetes Mellitus in Obese                     NaN   \n324  NCT04363710  Type 2 Diabetes Mellitus in Obese                     NaN   \n325  NCT00562029           Type 2 Diabetes Mellitus                     NaN   \n\n      Reference                                      Variable Timepoint  \\\n0           NaN                       Documented Risk Factors       NaN   \n1    Validation                            SCOUT DS algorithm       NaN   \n2    comparison  total volumetric bone mineral density (vBMD)       NaN   \n3           NaN                                           NaN       NaN   \n4           NaN               HbA1c-measurement (HbA1c-group)       NaN   \n..          ...                                           ...       ...   \n321    Baseline                                           NaN   2-years   \n322  percentage                                         HbA1c       NaN   \n323       liter                         Fasting Insulin Level       NaN   \n324         BMI                                        Weight       NaN   \n325  Resolution                                           NaN       NaN   \n\n           Endpoint Art  \n0      Primary_endpoint  \n1      Primary_endpoint  \n2      Primary_endpoint  \n3      Primary_endpoint  \n4    Secondary_endpoint  \n..                  ...  \n321  Secondary_endpoint  \n322    Primary_endpoint  \n323    Primary_endpoint  \n324    Primary_endpoint  \n325    Primary_endpoint  \n\n[326 rows x 7 columns]"
     },
     "execution_count": 134,
     "metadata": {},
     "output_type": "execute_result"
    }
   ],
   "source": [
    "results_df"
   ]
  },
  {
   "cell_type": "code",
   "execution_count": 137,
   "metadata": {},
   "outputs": [
    {
     "data": {
      "text/plain": "RangeIndex(start=0, stop=326, step=1)"
     },
     "execution_count": 137,
     "metadata": {},
     "output_type": "execute_result"
    }
   ],
   "source": [
    "results_df.index"
   ]
  },
  {
   "cell_type": "code",
   "execution_count": 139,
   "metadata": {},
   "outputs": [],
   "source": [
    "export = results_df\r\n",
    "export = export.fillna('Not Mentioned')\r\n",
    "export.rename_axis(\"Index\", axis='index', inplace=True)\r\n",
    "export.to_csv(\"results.csv\")"
   ]
  }
 ],
 "metadata": {
  "kernelspec": {
   "display_name": "Python 3.8.8 64-bit ('base': conda)",
   "name": "python388jvsc74a57bd0aa103bc93a6207848fa67a1515d71b9e40ee492733cad84c02b8df8f3c6dbc5a"
  },
  "language_info": {
   "codemirror_mode": {
    "name": "ipython",
    "version": 3
   },
   "file_extension": ".py",
   "mimetype": "text/x-python",
   "name": "python",
   "nbconvert_exporter": "python",
   "pygments_lexer": "ipython3",
   "version": "3.8.8"
  },
  "orig_nbformat": 2
 },
 "nbformat": 4,
 "nbformat_minor": 2
}