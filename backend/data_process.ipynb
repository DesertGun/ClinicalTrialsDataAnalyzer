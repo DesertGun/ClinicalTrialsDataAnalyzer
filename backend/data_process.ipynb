{
 "cells": [
  {
   "cell_type": "markdown",
   "metadata": {},
   "source": [
    "### Prototype data Precessing with Spacy"
   ]
  },
  {
   "cell_type": "markdown",
   "metadata": {},
   "source": [
    "1. Import model\r\n",
    "2. Import database\r\n",
    "3. iterate through database and label the data\r\n",
    "4. Create DF with labeled data as features\r\n",
    "5. Export DF as 'results.csv'"
   ]
  },
  {
   "cell_type": "code",
   "execution_count": 1,
   "metadata": {},
   "outputs": [],
   "source": [
    "import spacy\r\n",
    "import pandas as pd \r\n",
    "import numpy as np "
   ]
  },
  {
   "cell_type": "code",
   "execution_count": 2,
   "metadata": {},
   "outputs": [],
   "source": [
    "# Loading the Model\r\n",
    "\r\n",
    "nlp = spacy.load(\"../training/test_model\")"
   ]
  },
  {
   "cell_type": "code",
   "execution_count": 3,
   "metadata": {},
   "outputs": [],
   "source": [
    "# Loading the input_data\r\n",
    "\r\n",
    "data = pd.read_csv(\"input_data_filtered.csv\")"
   ]
  },
  {
   "cell_type": "code",
   "execution_count": 4,
   "metadata": {},
   "outputs": [],
   "source": [
    "data[\"PrimaryOutcomeMeasure\"] = data[\"PrimaryOutcomeMeasure\"].astype(str)\r\n",
    "data[\"PrimaryTimeFrame\"] = data[\"PrimaryTimeFrame\"].astype(str)\r\n",
    "data[\"SecondaryOutcomeMeasure\"] = data[\"SecondaryOutcomeMeasure\"].astype(str)\r\n",
    "data[\"SecondaryTimeFrame\"] = data[\"SecondaryTimeFrame\"].astype(str)"
   ]
  },
  {
   "cell_type": "code",
   "execution_count": 5,
   "metadata": {},
   "outputs": [],
   "source": [
    "data_result_df = pd.DataFrame(columns=[\"NCTId\", \"Condition\", 'Change', \"Reference\", \"Variable\",\"Timepoint\"])"
   ]
  },
  {
   "cell_type": "code",
   "execution_count": 6,
   "metadata": {},
   "outputs": [
    {
     "data": {
      "text/html": "<div>\n<style scoped>\n    .dataframe tbody tr th:only-of-type {\n        vertical-align: middle;\n    }\n\n    .dataframe tbody tr th {\n        vertical-align: top;\n    }\n\n    .dataframe thead th {\n        text-align: right;\n    }\n</style>\n<table border=\"1\" class=\"dataframe\">\n  <thead>\n    <tr style=\"text-align: right;\">\n      <th></th>\n      <th>NCTId</th>\n      <th>Condition</th>\n      <th>Change</th>\n      <th>Reference</th>\n      <th>Variable</th>\n      <th>Timepoint</th>\n    </tr>\n  </thead>\n  <tbody>\n  </tbody>\n</table>\n</div>",
      "text/plain": "Empty DataFrame\nColumns: [NCTId, Condition, Change, Reference, Variable, Timepoint]\nIndex: []"
     },
     "execution_count": 6,
     "metadata": {},
     "output_type": "execute_result"
    }
   ],
   "source": [
    "data_result_df"
   ]
  },
  {
   "cell_type": "code",
   "execution_count": 67,
   "metadata": {},
   "outputs": [],
   "source": [
    "# Iteration through data \r\n",
    "# TODO: Remove Measurment-Title ???\r\n",
    "# TODO: Process for multi-row data\r\n",
    "\r\n",
    "\r\n",
    "dictTest = {\"NCTId\":[],\"Condition\":[],\"Change\":[],\"Reference\":[], \"Variable\" :[], \"Timepoint\":[]}\r\n",
    "\r\n",
    "for index, row in data.iterrows():\r\n",
    "\r\n",
    "    \r\n",
    "\r\n",
    "\r\n",
    "    trial_id = row[1]\r\n",
    "\r\n",
    "    condition = row[2]\r\n",
    "    \r\n",
    "    primary_endpoint = row[3]\r\n",
    "    primary_endpoints = []\r\n",
    "\r\n",
    "    primary_endpoint_timepoint = row[4]\r\n",
    "    primary_endpoint_timepoints = []\r\n",
    "\r\n",
    "    secondary_endpoint = row[5]\r\n",
    "    secondary_endpoints = []\r\n",
    "\r\n",
    "    secondary_endpoint_timepoint = row[6]\r\n",
    "    secondary_endpoint_timepoints = []\r\n",
    "    \r\n",
    "    if  primary_endpoint.find(\"|\") != -1:\r\n",
    "        primary_endpoints = primary_endpoint.split(\"|\")\r\n",
    "\r\n",
    "    if  primary_endpoint_timepoint.find(\"|\") != -1:\r\n",
    "        primary_endpoint_timepoints = primary_endpoint_timepoint.split(\"|\")\r\n",
    "\r\n",
    "    if  secondary_endpoint.find(\"|\") != -1:\r\n",
    "        secondary_endpoints = secondary_endpoint.split('|')\r\n",
    "\r\n",
    "    if  secondary_endpoint_timepoint.find(\"|\") != -1:\r\n",
    "        secondary_endpoint_timepoints = secondary_endpoint_timepoint.split('|')\r\n",
    "    \r\n",
    "    if primary_endpoints == []:\r\n",
    "        target = nlp(primary_endpoint)\r\n",
    "        for entity in target.ents:\r\n",
    "            dictTest[\"NCTId\"].append(trial_id)\r\n",
    "            dictTest[\"Condition\"].append(condition)\r\n",
    "            if entity.label_ != \"Condition\":\r\n",
    "                dictTest[entity.label_].append(entity.text)\r\n",
    "    else:\r\n",
    "        for point in primary_endpoints:\r\n",
    "            target = nlp(point)\r\n",
    "            for entity in target.ents:\r\n",
    "                dictTest[\"NCTId\"].append(trial_id)\r\n",
    "                dictTest[\"Condition\"].append(condition)\r\n",
    "                if entity.label_ != \"Condition\":\r\n",
    "                    dictTest[entity.label_].append(entity.text)\r\n",
    "\r\n",
    "\r\n",
    "    if secondary_endpoints == []:\r\n",
    "        target = nlp(secondary_endpoint)\r\n",
    "        for entity in target.ents:\r\n",
    "            dictTest[\"NCTId\"].append(trial_id)\r\n",
    "            dictTest[\"Condition\"].append(condition)\r\n",
    "            \r\n",
    "            if entity.label_ != \"Condition\":\r\n",
    "                dictTest[entity.label_].append(entity.text)\r\n",
    "    else:\r\n",
    "        for point in secondary_endpoints:\r\n",
    "            target = nlp(point)\r\n",
    "            for entity in target.ents:\r\n",
    "                dictTest[\"NCTId\"].append(trial_id)\r\n",
    "                dictTest[\"Condition\"].append(condition)\r\n",
    "                if entity.label_ != \"Condition\":\r\n",
    "                    dictTest[entity.label_].append(entity.text)\r\n"
   ]
  },
  {
   "cell_type": "markdown",
   "metadata": {},
   "source": []
  },
  {
   "cell_type": "code",
   "execution_count": 68,
   "metadata": {},
   "outputs": [],
   "source": [
    "\r\n",
    "results_df = pd.DataFrame(dict([(k,pd.Series(v)) for k,v in dictTest.items()]))"
   ]
  },
  {
   "cell_type": "code",
   "execution_count": 69,
   "metadata": {},
   "outputs": [
    {
     "data": {
      "text/html": "<div>\n<style scoped>\n    .dataframe tbody tr th:only-of-type {\n        vertical-align: middle;\n    }\n\n    .dataframe tbody tr th {\n        vertical-align: top;\n    }\n\n    .dataframe thead th {\n        text-align: right;\n    }\n</style>\n<table border=\"1\" class=\"dataframe\">\n  <thead>\n    <tr style=\"text-align: right;\">\n      <th></th>\n      <th>NCTId</th>\n      <th>Condition</th>\n      <th>Change</th>\n      <th>Reference</th>\n      <th>Variable</th>\n      <th>Timepoint</th>\n    </tr>\n  </thead>\n  <tbody>\n    <tr>\n      <th>0</th>\n      <td>NCT01814787</td>\n      <td>Type 2 Diabetes</td>\n      <td>Number of Children</td>\n      <td>Validation</td>\n      <td>Documented Risk Factors</td>\n      <td>12 months</td>\n    </tr>\n    <tr>\n      <th>1</th>\n      <td>NCT01814787</td>\n      <td>Type 2 Diabetes</td>\n      <td>outcome</td>\n      <td>comparison</td>\n      <td>SCOUT DS algorithm</td>\n      <td>12 months</td>\n    </tr>\n    <tr>\n      <th>2</th>\n      <td>NCT01814787</td>\n      <td>Type 2 Diabetes</td>\n      <td>Number of Participants</td>\n      <td>Correlation</td>\n      <td>total volumetric bone mineral density (vBMD)</td>\n      <td>12 months</td>\n    </tr>\n    <tr>\n      <th>3</th>\n      <td>NCT01346033</td>\n      <td>Type 2 Diabetes</td>\n      <td>number of participants</td>\n      <td>Correlation</td>\n      <td>risk test only (RTO)- group</td>\n      <td>All cause</td>\n    </tr>\n    <tr>\n      <th>4</th>\n      <td>NCT01346033</td>\n      <td>Type 2 Diabetes</td>\n      <td>Characteristic</td>\n      <td>Correlation</td>\n      <td>HbA1c-measurement (HbA1c-group)</td>\n      <td>12 months</td>\n    </tr>\n    <tr>\n      <th>...</th>\n      <td>...</td>\n      <td>...</td>\n      <td>...</td>\n      <td>...</td>\n      <td>...</td>\n      <td>...</td>\n    </tr>\n    <tr>\n      <th>672</th>\n      <td>NCT04363710</td>\n      <td>Type 2 Diabetes Mellitus in Obese</td>\n      <td>NaN</td>\n      <td>NaN</td>\n      <td>NaN</td>\n      <td>NaN</td>\n    </tr>\n    <tr>\n      <th>673</th>\n      <td>NCT04363710</td>\n      <td>Type 2 Diabetes Mellitus in Obese</td>\n      <td>NaN</td>\n      <td>NaN</td>\n      <td>NaN</td>\n      <td>NaN</td>\n    </tr>\n    <tr>\n      <th>674</th>\n      <td>NCT04363710</td>\n      <td>Type 2 Diabetes Mellitus in Obese</td>\n      <td>NaN</td>\n      <td>NaN</td>\n      <td>NaN</td>\n      <td>NaN</td>\n    </tr>\n    <tr>\n      <th>675</th>\n      <td>NCT00562029</td>\n      <td>Type 2 Diabetes Mellitus</td>\n      <td>NaN</td>\n      <td>NaN</td>\n      <td>NaN</td>\n      <td>NaN</td>\n    </tr>\n    <tr>\n      <th>676</th>\n      <td>NCT00562029</td>\n      <td>Type 2 Diabetes Mellitus</td>\n      <td>NaN</td>\n      <td>NaN</td>\n      <td>NaN</td>\n      <td>NaN</td>\n    </tr>\n  </tbody>\n</table>\n<p>677 rows × 6 columns</p>\n</div>",
      "text/plain": "           NCTId                          Condition                  Change  \\\n0    NCT01814787                    Type 2 Diabetes      Number of Children   \n1    NCT01814787                    Type 2 Diabetes                 outcome   \n2    NCT01814787                    Type 2 Diabetes  Number of Participants   \n3    NCT01346033                    Type 2 Diabetes  number of participants   \n4    NCT01346033                    Type 2 Diabetes          Characteristic   \n..           ...                                ...                     ...   \n672  NCT04363710  Type 2 Diabetes Mellitus in Obese                     NaN   \n673  NCT04363710  Type 2 Diabetes Mellitus in Obese                     NaN   \n674  NCT04363710  Type 2 Diabetes Mellitus in Obese                     NaN   \n675  NCT00562029           Type 2 Diabetes Mellitus                     NaN   \n676  NCT00562029           Type 2 Diabetes Mellitus                     NaN   \n\n       Reference                                      Variable  Timepoint  \n0     Validation                       Documented Risk Factors  12 months  \n1     comparison                            SCOUT DS algorithm  12 months  \n2    Correlation  total volumetric bone mineral density (vBMD)  12 months  \n3    Correlation                   risk test only (RTO)- group  All cause  \n4    Correlation               HbA1c-measurement (HbA1c-group)  12 months  \n..           ...                                           ...        ...  \n672          NaN                                           NaN        NaN  \n673          NaN                                           NaN        NaN  \n674          NaN                                           NaN        NaN  \n675          NaN                                           NaN        NaN  \n676          NaN                                           NaN        NaN  \n\n[677 rows x 6 columns]"
     },
     "execution_count": 69,
     "metadata": {},
     "output_type": "execute_result"
    }
   ],
   "source": [
    "results_df"
   ]
  },
  {
   "cell_type": "code",
   "execution_count": 71,
   "metadata": {},
   "outputs": [],
   "source": [
    "export = results_df\r\n",
    "export = export.fillna('Not Mentioned')\r\n",
    "export.to_csv(\"results_test.csv\")"
   ]
  }
 ],
 "metadata": {
  "kernelspec": {
   "display_name": "Python 3.8.8 64-bit ('base': conda)",
   "name": "python388jvsc74a57bd0aa103bc93a6207848fa67a1515d71b9e40ee492733cad84c02b8df8f3c6dbc5a"
  },
  "language_info": {
   "codemirror_mode": {
    "name": "ipython",
    "version": 3
   },
   "file_extension": ".py",
   "mimetype": "text/x-python",
   "name": "python",
   "nbconvert_exporter": "python",
   "pygments_lexer": "ipython3",
   "version": "3.8.8"
  },
  "orig_nbformat": 2
 },
 "nbformat": 4,
 "nbformat_minor": 2
}