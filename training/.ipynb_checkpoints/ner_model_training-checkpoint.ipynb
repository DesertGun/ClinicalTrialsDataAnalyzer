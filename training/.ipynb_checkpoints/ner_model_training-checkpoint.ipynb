{
 "cells": [
  {
   "cell_type": "code",
   "execution_count": 1,
   "metadata": {},
   "outputs": [],
   "source": [
    "import spacy, random\n",
    "from spacy.util import minibatch, compounding\n",
    "from spacy.training import Example\n",
    "from spacy import displacy\n",
    "import pandas as pd\n"
   ]
  },
  {
   "cell_type": "code",
   "execution_count": 2,
   "metadata": {},
   "outputs": [],
   "source": [
    "spacy.prefer_gpu()\n",
    "nlp = spacy.load(\"en_core_web_trf\")"
   ]
  },
  {
   "cell_type": "code",
   "execution_count": 3,
   "metadata": {},
   "outputs": [],
   "source": [
    "def train_ner_model(): \n",
    "\n",
    "    train_data = [\n",
    "    (\"Adjusted Mean Change From Baseline in Fasting Plasma Glucose at Week 24 (Last Observation Carried Forward [LOCF])\", \n",
    "    {\"entities\":[(0,20, \"Change\"),(26,34,\"Reference\"),(38,60,\"Variable\"), (64,71,\"Timepoint\")]}),\n",
    "    (\"Number of Participants With Abnormal Electrocardiogram (ECG) Interval\", \n",
    "    {\"entities\":[(0,22, \"Change\"),(28,69,\"Variable\")]}),\n",
    "    (\"Number of Children With Documented Risk Factors for Type 2 Diabetes\",\n",
    "    {\"entities\": [(0,18,\"Change\"),(24,47,\"Variable\"),(52,67, \"Condition\")]}),\n",
    "    (\"Validation of SCOUT DS algorithm for detecting known type 2 diabetes\",\n",
    "    {\"entities\": [(0,10, \"Reference\"),(14,32, \"Variable\"),(53,68, \"Condition\")]}),\n",
    "    (\"The main outcome is the comparison of total volumetric bone mineral density (vBMD) at the tibia and distal radius\",\n",
    "    {\"entities\":[(9,16, \"Change\"), (24, 34, \"Reference\"),(38,82, \"Variable\")]}),\n",
    "    (\"Number of Participants with undiagnosed type 2 diabetes\", {\"entities\": [(0, 22,\"Change\"), (40, 55, \"Condition\")]}),\n",
    "    (\"2 months\", {\"entities\":[(0,8,\"Timepoint\")]}),\n",
    "    (\"Explore if there was any difference in the number of participants with a high risk of developing type 2 diabetes in the risk test only (RTO)- group and the group that also offered a HbA1c-measurement (HbA1c-group)\", \n",
    "    {\"entities\":[(43,65, \"Change\"), (97,112, \"Condition\"),(120,147,\"Variable\"),(182,213, \"Variable\")]}),\n",
    "    (\"Baseline\", {\"entities\":[(0,8,\"Reference\")]}),\n",
    "    (\"Correlation between NF-кB dependent-proinflammation markers and osteoblast-specific gene expression in the MSC to measure the effects of NF-кB dependent-proinflammation on differentiation potential toward osteoblast in type 2 diabetes.\",\n",
    "    {\"entities\":[(0,11,\"Reference\"),(20,59,\"Variable\"), (64,110,\"Variable\"), (219,234,\"Condition\")]}),\n",
    "    (\"2-4 weeks\", {\"entities\":[(0,9,\"Timepoint\")]}),\n",
    "    (\"Characteristic of type 2 diabetes patients, treated with insulin in Guadeloupe\", \n",
    "    {\"entities\":[(0,14,\"Change\"), (18,33,\"Condition\"), (34,42,\"Reference\"), (57, 64, \"Variable\")]}),\n",
    "    (\"Trough study completion, an average of 2 years\", {\"entities\": [(28,46,\"Timepoint\")]}),\n",
    "    (\"Describe the relation between the rate of HbAC and the plan of insulinothérapie\",\n",
    "    {\"entities\":[(13,21,\"Reference\"),(34,46,\"Variable\"),(55,79,\"Variable\")]}),\n",
    "    (\"Change in baseline A1C (glycated hemoglobin) at 12 months\",\n",
    "    {\"entities\":[(0,6,\"Change\"),(10,18,\"Reference\"),(19,44,\"Variable\"),(48,57, \"Timepoint\")]}),\n",
    "    (\"12 months\", {\"entities\":[(0,9,\"Timepoint\")]}),\n",
    "    (\"Change in baseline lipids at 12 months\", {\"entities\":[(0,6,\"Change\"),(10,18,\"Reference\"),(19,25,\"Variable\"),(29,38,\"Timepoint\")]}),\n",
    "    (\"Change in baseline blood pressure at 12 months\",{\"entities\":[(0,6,\"Change\"),(10,18,\"Reference\"),(19,33,\"Variable\"),(37,46,\"Timepoint\")]}),\n",
    "    (\"Change in baseline Quality of life at 12 months\",{\"entities\":[(0,6,\"Change\"),(10,18,\"Reference\"),(19,34,\"Variable\"),(38,47,\"Timepoint\")]}),\n",
    "    (\"Change in baseline insulin satisfaction at 12 months\",{\"entities\":[(0,6,\"Change\"),(10,18,\"Reference\"),(19,39,\"Variable\"),(43,52,\"Timepoint\")]}),\n",
    "    (\"Feasibility of implementing the intervention in primary care: Binary outcome (feasible / not feasible), as judged by the investigators\",\n",
    "    {\"entities\":[(32,44,\"Variable\"),(62,76,\"Change\"),(121,134,\"Reference\")]}),\n",
    "    (\"3 months\",{\"entities\":[(0,8,\"Timepoint\")]}),\n",
    "    (\"Recall of personalised risk information\",{\"entities\":[(0,6,\"Reference\"),(10,39,\"Variable\")]}),\n",
    "    (\"Intentions to make lifestyle changes\",{\"entities\":[(19,36,\"Variable\")]}),\n",
    "    (\"Change in self-management behaviour\",{\"entities\":[(0,6,\"Change\"),(10,35,\"Variable\")]}),\n",
    "    (\"Change in HbA1c Baseline to End of Trial in TINSAL-T2D Stage 1\",{\"entities\":[(0,6,\"Change\"),(10,15,\"Variable\"),(16,24,\"Reference\")]}),\n",
    "    (\"14 week\",{\"entities\":[(0,7,\"Timepoint\")]}),\n",
    "    (\"Change in HbA1c\", {\"entities\":[(0,15,\"Change\")]}),\n",
    "    (\"Change From Baseline and Trends in Fasting Glucose Over Time\", {\"entities\":[(0,6,\"Change\"),(12,20,\"Reference\"),(25,31,\"Reference\"),(35,50,\"Variable\")]}),\n",
    "    (\"Change in Lipids\",{\"entities\":[(0,16,\"Change\")]}),\n",
    "    (\"Change From Baseline in 14-week Insulin\", {\"entities\":[(0,6,\"Change\"),(12,20,\"Reference\"),(24,31,\"Timepoint\"),(32,39,\"Variable\")]}),\n",
    "    (\"Change in Insulin\",{\"entities\":[(0,17,\"Change\")]})\n",
    "]\n",
    "\n",
    "    examples = []\n",
    "    losses = {}\n",
    "    for text, annots in train_data:\n",
    "        examples.append(Example.from_dict(nlp.make_doc(text), annots))\n",
    "\n",
    "        \n",
    "    optimizer = nlp.initialize(lambda: examples)\n",
    "\n",
    "    for i in range(100):\n",
    "        random.shuffle(examples)\n",
    "        for batch in minibatch(examples, size = compounding(1.0, 16.0, 1.001)):\n",
    "            nlp.update(\n",
    "                batch,\n",
    "                sgd=optimizer,\n",
    "                losses = losses,\n",
    "            )\n",
    "    print(\"Losses: \", losses)\n",
    "\n",
    "\n",
    "    for text, _ in train_data:\n",
    "            target = nlp(text)\n",
    "            for entity in target.ents:\n",
    "                    print(entity.text, entity.start_char, entity.end_char, entity.label_)\n",
    "            displacy.render(nlp(target.text), style='ent')\n",
    "\n",
    "\n",
    "\n",
    "    nlp.to_disk(\"../training/ner_model\")"
   ]
  },
  {
   "cell_type": "code",
   "execution_count": 4,
   "metadata": {},
   "outputs": [],
   "source": [
    "def resume_train_ner_model(train_data):\n",
    "    nlp = spacy.load(\"../training/ner_model\")\n",
    "\n",
    "    examples = []\n",
    "    losses = {}\n",
    "    for text, annots in train_data:\n",
    "        examples.append(Example.from_dict(nlp.make_doc(text), annots))\n",
    "\n",
    "    optimizer_resume = nlp.resume_training()\n",
    "\n",
    "    for i in range(10):\n",
    "        random.shuffle(examples)\n",
    "        for batch in minibatch(examples, size = compounding(1.0, 4.0, 1.01)):\n",
    "            nlp.update(\n",
    "                batch,\n",
    "                sgd=optimizer_resume,\n",
    "                losses = losses,\n",
    "            )\n",
    "    print(\"Losses: \", losses)\n",
    "\n",
    "    nlp.to_disk(\"../training/ner_model\")"
   ]
  },
  {
   "cell_type": "code",
   "execution_count": 5,
   "metadata": {},
   "outputs": [],
   "source": [
    "def create_and_train_new_data():\n",
    "    data_measurements = pd.read_csv(\"../training/baseline_measurements.csv\")\n",
    "    # TODO: remove unnecessary code if not needed -> replace with clean data\n",
    "    data_measurements = data_measurements.drop(columns=[\"Unnamed: 0\"], axis=1)\n",
    "\n",
    "    data_measurements.dropna(inplace=True)\n",
    "\n",
    "    change_train = from_csv_to_train_data(data_measurements, \"Change\", \"units\")\n",
    "    resume_train_ner_model(change_train)\n",
    "    print(\"Done training changes\")"
   ]
  },
  {
   "cell_type": "code",
   "execution_count": 6,
   "metadata": {},
   "outputs": [],
   "source": [
    "def from_csv_to_train_data(datadf, label, colname):\n",
    "    output = []\n",
    "    for index, row in datadf.iterrows():\n",
    "        char_start = 0\n",
    "        char_end = len(row[colname])\n",
    "        output_row = (row[colname], {\"entities\":[(char_start, char_end, label)]})\n",
    "        output.append(output_row)\n",
    "    return output\n",
    "        "
   ]
  },
  {
   "cell_type": "code",
   "execution_count": 1,
   "metadata": {},
   "outputs": [
    {
     "ename": "NameError",
     "evalue": "name 'train_ner_model' is not defined",
     "output_type": "error",
     "traceback": [
      "\u001b[1;31m---------------------------------------------------------------------------\u001b[0m",
      "\u001b[1;31mNameError\u001b[0m                                 Traceback (most recent call last)",
      "\u001b[1;32m<ipython-input-1-d1af91f03f63>\u001b[0m in \u001b[0;36m<module>\u001b[1;34m\u001b[0m\n\u001b[1;32m----> 1\u001b[1;33m \u001b[0mtrain_ner_model\u001b[0m\u001b[1;33m(\u001b[0m\u001b[1;33m)\u001b[0m\u001b[1;33m\u001b[0m\u001b[1;33m\u001b[0m\u001b[0m\n\u001b[0m",
      "\u001b[1;31mNameError\u001b[0m: name 'train_ner_model' is not defined"
     ]
    }
   ],
   "source": [
    "train_ner_model()"
   ]
  },
  {
   "cell_type": "code",
   "execution_count": null,
   "metadata": {},
   "outputs": [],
   "source": [
    "create_and_train_new_data()"
   ]
  },
  {
   "cell_type": "code",
   "execution_count": null,
   "metadata": {},
   "outputs": [],
   "source": []
  }
 ],
 "metadata": {
  "interpreter": {
   "hash": "aa103bc93a6207848fa67a1515d71b9e40ee492733cad84c02b8df8f3c6dbc5a"
  },
  "kernelspec": {
   "display_name": "Python 3",
   "language": "python",
   "name": "python3"
  },
  "language_info": {
   "codemirror_mode": {
    "name": "ipython",
    "version": 3
   },
   "file_extension": ".py",
   "mimetype": "text/x-python",
   "name": "python",
   "nbconvert_exporter": "python",
   "pygments_lexer": "ipython3",
   "version": "3.8.8"
  }
 },
 "nbformat": 4,
 "nbformat_minor": 2
}
