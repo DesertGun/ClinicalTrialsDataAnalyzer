{
 "cells": [
  {
   "cell_type": "code",
   "execution_count": 1,
   "source": [
    "import spacy, random\r\n",
    "import spacy_annotator as spa\r\n",
    "import numpy as np\r\n",
    "from spacy.util import minibatch, compounding\r\n",
    "from pathlib import Path\r\n",
    "from spacy.training import Example\r\n",
    "from spacy import displacy\r\n",
    "import pandas as pd\r\n"
   ],
   "outputs": [],
   "metadata": {}
  },
  {
   "cell_type": "code",
   "execution_count": null,
   "source": [
    "spacy.prefer_gpu()\r\n",
    "nlp = spacy.blank('en')\r\n",
    "source_nlp = spacy.load(\"en_core_web_sm\")\r\n",
    "nlp.add_pipe(\"ner\", source=source_nlp)"
   ],
   "outputs": [],
   "metadata": {}
  },
  {
   "cell_type": "code",
   "execution_count": 110,
   "source": [
    "train_data_init = [\r\n",
    "    (\"Adjusted Mean Change From Baseline in Fasting Plasma Glucose at Week 24 (Last Observation Carried Forward [LOCF])\", \r\n",
    "    {\"entities\":[(0,20, \"Change\"),(26,34,\"Reference\"),(38,60,\"Variable\"), (64,71,\"Timepoint\")]}),\r\n",
    "    (\"Number of Participants With Abnormal Electrocardiogram (ECG) Interval\", \r\n",
    "    {\"entities\":[(0,22, \"Change\"),(28,69,\"Variable\")]}),\r\n",
    "    (\"Number of Children With Documented Risk Factors for Type 2 Diabetes\",\r\n",
    "    {\"entities\": [(0,18,\"Change\"),(24,47,\"Variable\"),(52,67, \"Condition\")]}),\r\n",
    "    (\"Validation of SCOUT DS algorithm for detecting known type 2 diabetes\",\r\n",
    "    {\"entities\": [(0,10, \"Reference\"),(14,32, \"Variable\"),(53,68, \"Condition\")]}),\r\n",
    "    (\"The main outcome is the comparison of total volumetric bone mineral density (vBMD) at the tibia and distal radius\",\r\n",
    "    {\"entities\":[(9,16, \"Change\"), (24, 34, \"Reference\"),(38,82, \"Variable\")]}),\r\n",
    "    (\"Number of Participants with undiagnosed type 2 diabetes\", {\"entities\": [(0, 22,\"Change\"), (40, 55, \"Condition\")]}),\r\n",
    "    (\"2 months\", {\"entities\":[(0,8,\"Timepoint\")]}),\r\n",
    "    (\"Explore if there was any difference in the number of participants with a high risk of developing type 2 diabetes in the risk test only (RTO)- group and the group that also offered a HbA1c-measurement (HbA1c-group)\", \r\n",
    "    {\"entities\":[(43,65, \"Change\"), (97,112, \"Condition\"),(120,147,\"Variable\"),(182,213, \"Variable\")]}),\r\n",
    "    (\"Baseline\", {\"entities\":[(0,8,\"Reference\")]}),\r\n",
    "    (\"Correlation between NF-кB dependent-proinflammation markers and osteoblast-specific gene expression in the MSC to measure the effects of NF-кB dependent-proinflammation on differentiation potential toward osteoblast in type 2 diabetes.\",\r\n",
    "    {\"entities\":[(0,11,\"Reference\"),(20,59,\"Variable\"), (64,110,\"Variable\"), (219,234,\"Condition\")]}),\r\n",
    "    (\"2-4 weeks\", {\"entities\":[(0,9,\"Timepoint\")]}),\r\n",
    "    (\"Characteristic of type 2 diabetes patients, treated with insulin in Guadeloupe\", \r\n",
    "    {\"entities\":[(0,14,\"Change\"), (18,33,\"Condition\"), (34,42,\"Reference\"), (57, 64, \"Variable\")]}),\r\n",
    "    (\"Trough study completion, an average of 2 years\", {\"entities\": [(28,46,\"Timepoint\")]}),\r\n",
    "    (\"Describe the relation between the rate of HbAC and the plan of insulinothérapie\",\r\n",
    "    {\"entities\":[(13,21,\"Reference\"),(34,46,\"Variable\"),(55,79,\"Variable\")]}),\r\n",
    "    (\"Change in baseline A1C (glycated hemoglobin) at 12 months\",\r\n",
    "    {\"entities\":[(0,6,\"Change\"),(10,18,\"Reference\"),(19,44,\"Variable\"),(48,57, \"Timepoint\")]}),\r\n",
    "    (\"12 months\", {\"entities\":[(0,9,\"Timepoint\")]}),\r\n",
    "    (\"Change in baseline lipids at 12 months\", {\"entities\":[(0,6,\"Change\"),(10,18,\"Reference\"),(19,25,\"Variable\"),(29,38,\"Timepoint\")]}),\r\n",
    "    (\"Change in baseline blood pressure at 12 months\",{\"entities\":[(0,6,\"Change\"),(10,18,\"Reference\"),(19,33,\"Variable\"),(37,46,\"Timepoint\")]}),\r\n",
    "    (\"Change in baseline Quality of life at 12 months\",{\"entities\":[(0,6,\"Change\"),(10,18,\"Reference\"),(19,34,\"Variable\"),(38,47,\"Timepoint\")]}),\r\n",
    "    (\"Change in baseline insulin satisfaction at 12 months\",{\"entities\":[(0,6,\"Change\"),(10,18,\"Reference\"),(19,39,\"Variable\"),(43,52,\"Timepoint\")]}),\r\n",
    "    (\"Feasibility of implementing the intervention in primary care: Binary outcome (feasible / not feasible), as judged by the investigators\",\r\n",
    "    {\"entities\":[(32,44,\"Variable\"),(62,76,\"Change\"),(121,134,\"Reference\")]}),\r\n",
    "    (\"3 months\",{\"entities\":[(0,8,\"Timepoint\")]}),\r\n",
    "    (\"Recall of personalised risk information\",{\"entities\":[(0,6,\"Reference\"),(10,39,\"Variable\")]}),\r\n",
    "    (\"Intentions to make lifestyle changes\",{\"entities\":[(19,36,\"Variable\")]}),\r\n",
    "    (\"Change in self-management behaviour\",{\"entities\":[(0,6,\"Change\"),(10,35,\"Variable\")]}),\r\n",
    "    (\"Change in HbA1c Baseline to End of Trial in TINSAL-T2D Stage 1\",{\"entities\":[(0,6,\"Change\"),(10,15,\"Variable\"),(16,24,\"Reference\")]}),\r\n",
    "    (\"14 week\",{\"entities\":[(0,7,\"Timepoint\")]}),\r\n",
    "    (\"Change in HbA1c\", {\"entities\":[(0,15,\"Change\")]}),\r\n",
    "    (\"Change From Baseline and Trends in Fasting Glucose Over Time\", {\"entities\":[(0,6,\"Change\"),(12,20,\"Reference\"),(25,31,\"Reference\"),(35,50,\"Variable\")]}),\r\n",
    "    (\"Change in Lipids\",{\"entities\":[(0,16,\"Change\")]}),\r\n",
    "    (\"Change From Baseline in 14-week Insulin\", {\"entities\":[(0,6,\"Change\"),(12,20,\"Reference\"),(24,31,\"Timepoint\"),(32,39,\"Variable\")]}),\r\n",
    "    (\"Change in Insulin\",{\"entities\":[(0,17,\"Change\")]}),\r\n",
    "    (\"Neuroendocrine Tumor of Pancreas\", {\"entities\": [(15,32, \"Condition\")]}),\r\n",
    "    (\"Number of levels assessed\", {\"entities\": [(0,16, \"Change\")]}),\r\n",
    "    (\"Instances of hypoglycemia\", {\"entities\": [(13,25, \"Variable\")]}),\r\n",
    "    (\"percentage of average nicotine binding\", {\"entities\": [(22,38, \"Variable\")]}),\r\n",
    "    (\"Number of unsupervised injections\", {\"entities\": [(0,33, \"Change\")]}), \r\n",
    "    (\"Renal Replacement Therapy\", {\"entities\": [(0,25, \"Variable\")]}),\r\n",
    "    (\"Polysomnographic recording of nocturnal sleep\", {\"entities\": [(17,45, \"Variable\")]}), \r\n",
    "    (\"percent predicted of FEV1 per year\", {\"entities\": [(21,25, \"Variable\"), (30,34, \"Timepoint\")]}), \r\n",
    "    (\"Change in percent time missed\", {\"entities\": [(0,29, \"Change\")]}), \r\n",
    "    (\"Recurrence, Detection rate per patient of PET-PSMA for the detection of biochemical recurrence.\", {\"entities\": [(0,10, \"Change\"),(12,38, \"Reference\"), (42,50,\"Variable\"),(72,94,\"Variable\")]}),\r\n",
    "    ('Circulating endothelial progenitor cells concentration and microparticles derived from endothelial cells',\r\n",
    "    {'entities': [(0, 54, 'Variable'), (59, 104, 'Variable')]}),\r\n",
    "    ('Peak anti-Xa activity', {'entities': [(5, 21, 'Variable')]}),\r\n",
    "    ('Clinical Evolution', {'entities': [(0, 18, 'Reference')]}),\r\n",
    "    ('In-segment late lumen loss', {'entities': [(0, 26, 'Change')]}),\r\n",
    "    ('Reading speed day 0|Reading speed M3', {'entities': [(0, 13, 'Change')]}),\r\n",
    "    ('Number of patients who died for fournier gangrene',\r\n",
    "    {'entities': [(32, 49, 'Condition'), (0, 18, 'Change')]}),\r\n",
    "    ('Feedback of individual fellow in training on virtual and simulator based learning.',\r\n",
    "    {'entities': [(0, 22, 'Reference'), (33, 52, 'Variable'), (57, 81, 'Variable')]}),\r\n",
    "    ('Introductory Information Form (questionnaire)|Health Belief Model Scale in Obesity (questionnaire-scale)|Health Belief Model Scale in Obesity-Importance of Health (questionnaire-scale)|Health Belief Model Scale in Obesity- Perceived sensitivity (questionnaire-scale)|Health Belief Model Scale in Obesity- Perceived severity (questionnaire-scale)|Health Belief Model Scale in Obesity- Perceived benefit (questionnaire-scale)|Health Belief Model Scale in Obesity- Perceived barrier (questionnaire-scale)|Height Meter|weighing machine|body mass index calculation',\r\n",
    "    {'entities': [(142, 152, 'Reference'), (223, 244, 'Reference'), (384, 401, 'Reference'), (66, 82, 'Change'), (125, 141, 'Change'), (462, 479, 'Variable'),\r\n",
    "    (537, 559, 'Variable')]}),\r\n",
    "    ('Change of post-traumatic stress symptoms',\r\n",
    "    {'entities': [(0, 40, 'Change')]}),\r\n",
    "  ('Number of patients without intubation', {'entities': [(0, 18, 'Change'), (27, 37, 'Variable')]}),\r\n",
    " ('Effect of Threat Appraisal on Vaping Intention', {'entities': [(0, 26, 'Variable'), (30, 46, 'Variable')]}),\r\n",
    " ('prevalence of peri-implantitis', {'entities': [(14, 30, 'Condition'), (0, 10, 'Variable')]}),\r\n",
    " ('Evaluation of video', {'entities': [(0, 10, 'Reference'), (14, 19, 'Variable')]}),\r\n",
    " ('correlation of disease severity with results of laboratory test', {'entities': [(0, 11, 'Reference'), (15, 31, 'Variable'), (37, 63, 'Variable')]}),\r\n",
    " ('Cognition-Global cognition|Cognition-Global cognition|Cognition-Global cognition|Cognition-Global cognition|Cognition-Global cognition|Cognition-memory|Cognition-memory|Cognition-memory|Cognition-memory|Cognition-memory|Cognition-attention|Cognition-attention|Cognition-attention|Cognition-attention|Cognition-attention|Cognition-visual/spatial function|Cognition-visual/spatial function|Cognition-visual/spatial function|Cognition-visual/spatial function|Cognition-visual/spatial function|Cognition-executive function|Cognition-executive function|Cognition-executive function|Cognition-executive function|Cognition-executive function',\r\n",
    "  {'entities': [(0, 16, 'Variable')]}),\r\n",
    "  ('Pelvic Examination of Anxiety', {'entities': [(22, 29, 'Condition'), (0, 18, 'Variable')]}),\r\n",
    " ('Detection rate per patient of PET-PSMA for the detection of biochemical recurrence.', {'entities': [(0, 9, 'Reference'), (47, 56, 'Reference'),\r\n",
    "    (10, 26, 'Change'),\r\n",
    "    (30, 38, 'Variable'),\r\n",
    "    (60, 82, 'Variable')]}),\r\n",
    " ('post-operative pain', {'entities': [(0, 19, 'Condition')]}),\r\n",
    " ('Visual Analog Scale(VAS)|Neck Pain And Disability Scale (NPDS)|Neck and jaw range of motion (ROM)',\r\n",
    "  {'entities': [(39, 49, 'Variable'),(50, 67, 'Variable')]}),\r\n",
    " ('Incidence of treatment-emergent adverse events (TEAE) by skin irritation assessments|Incidence of treatment-emergent adverse events (TEAE) by vital signs measurements|Incidence of treatment-emergent adverse events (TEAE) by ECG assessment|Incidence of treatment-emergent adverse events (TEAE) by clinical lab tests|Incidence of study drug related TEAEs',\r\n",
    "  {'entities': [(13, 53, 'Variable'),\r\n",
    "    (98, 138, 'Variable'),\r\n",
    "    (180, 220, 'Variable'),\r\n",
    "    (252, 292, 'Variable'),\r\n",
    "    (328, 352, 'Variable')]}),\r\n",
    " ('Krebs von den Lungen - 6 (KL-6)',\r\n",
    "  {'entities': [(0, 5, 'Condition'), (14, 31, 'Variable')]}),\r\n",
    " ('MMP8, MMP9|IL1, IL6,IL8,IL17|TNF alfa|RANK-L|OPG',\r\n",
    "  {'entities': [(0, 4, 'Change')]}), \r\n",
    "  ('OVCA', {'entities': [(0, 4, 'Condition')]}),\r\n",
    "  ('Cervical Lymphadenopathy', {'entities': [(0, 24, 'Condition')]}),\r\n",
    "  ('Esophageal Cancers', {'entities': [(0, 18, 'Condition')]}),\r\n",
    "  ('MF', {'entities': [(0, 2, 'Condition')]}),\r\n",
    "  ('Degenerative; Dementia', {'entities': []}),\r\n",
    "  ('AOMT', {'entities': [(0, 4, 'Condition')]}),\r\n",
    "  ('SARS-COV-2', {'entities': [(0, 10, 'Condition')]}),\r\n",
    "  ('Behavior, Sedentary',\r\n",
    "   {'entities': [(0, 8, 'Condition'), (10, 19, 'Condition')]}),\r\n",
    "  ('Neoplasms/Therapy', {'entities': [(0, 17, 'Condition')]}),\r\n",
    "  ('Abstinence Syndrome', {'entities': [(0, 19, 'Condition')]}),\r\n",
    "  ('Invasive Mycosis', {'entities': [(0, 16, 'Condition')]}),\r\n",
    "  ('Physician-Patient Relationship', {'entities': [(0, 30, 'Reference')]}),\r\n",
    "  ('Impacted Stones', {'entities': [(0, 15, 'Condition')]}),\r\n",
    "  ('Mannosidosis', {'entities': [(0, 12, 'Condition')]}),\r\n",
    "  ('Urinary Stones', {'entities': [(0, 14, 'Condition')]}),\r\n",
    "  ('Invasive Cancer', {'entities': [(0, 15, 'Condition')]}),\r\n",
    "  ('Foot Deformities', {'entities': [(0, 16, 'Condition')]}),\r\n",
    "  ('Craniotomy Surgery', {'entities': [(0, 18, 'Condition')]}),\r\n",
    "  ('Polydipsia, Primary', {'entities': [(0, 10, 'Condition')]}),\r\n",
    "  ('Breast Ptosis', {'entities': [(0, 13, 'Condition')]}),\r\n",
    "  ('Education, Medical',\r\n",
    "   {'entities': [(0, 9, 'Variable'), (11, 18, 'Variable')]}), \r\n",
    "  ('Target lesion failure', {'entities': [(0, 21, 'Variable')]}),\r\n",
    "  ('Visual acuity using the ETDRS chart day 0|Visual acuity using the ETDRS chartM3|Maculare thickness Day0|Maculare thickness M3',\r\n",
    "   {'entities': [(0, 13, 'Reference'), (24, 35, 'Reference')]}),\r\n",
    "  ('Effect of Perceived Vulnerability on Intention|Effect of Perceived Severity on Intention',\r\n",
    "   {'entities': [(0, 6, 'Reference'),\r\n",
    "     (10, 33, 'Change'),\r\n",
    "     (79, 88, 'Variable')]}),\r\n",
    "  ('Agreement of abnormalities in coagulation profile with measured inflammatory markers',\r\n",
    "   {'entities': [(55, 84, 'Reference'), (30, 49, 'Variable')]}),\r\n",
    "  ('Trough anti-Xa activity|AUC (0-24h)',\r\n",
    "   {'entities': [(29, 34, 'Timepoint')]}),\r\n",
    "  ('Detection rate per region of PSMA-PET for the detection of biochemical recurrence',\r\n",
    "   {'entities': [(0, 25, 'Reference'),\r\n",
    "     (59, 81, 'Change')]}),\r\n",
    "  ('Time to pre-visit PROMIS form completion|PROMIS form completion rates according to patient demographics',\r\n",
    "   {'entities': [(83, 103, 'Reference'), (0, 24, 'Variable')]}),\r\n",
    "  ('Visual acuity using the ETDRS chart day 0|Visual acuity using the ETDRS chartM3|Maculare thickness Day0|Maculare thickness M3',\r\n",
    "   {'entities': [(0, 13, 'Reference'), (24, 35, 'Reference')]}),\r\n",
    "  ('Effect of Perceived Vulnerability on Intention|Effect of Perceived Severity on Intention',\r\n",
    "   {'entities': [(0, 6, 'Reference'),\r\n",
    "     (10, 33, 'Change'),\r\n",
    "     (79, 88, 'Variable')]}),\r\n",
    "  ('Agreement of abnormalities in coagulation profile with measured inflammatory markers',\r\n",
    "   {'entities': [(55, 84, 'Reference'), (30, 49, 'Variable')]}),\r\n",
    "  ('Trough anti-Xa activity|AUC (0-24h)',\r\n",
    "   {'entities': [(29, 34, 'Timepoint')]}),\r\n",
    "  ('Detection rate per region of PSMA-PET for the detection of biochemical recurrence',\r\n",
    "   {'entities': [(0, 25, 'Reference'),\r\n",
    "     (59, 81, 'Change'),\r\n",
    "     (29, 37, 'Variable')]}),\r\n",
    "  ('Time to pre-visit PROMIS form completion|PROMIS form completion rates according to patient demographics',\r\n",
    "   {'entities': [(83, 103, 'Reference'), (0, 24, 'Variable')]})]"
   ],
   "outputs": [],
   "metadata": {}
  },
  {
   "cell_type": "code",
   "execution_count": 39,
   "source": [
    "def train_ner_model(trainig_data_init): \r\n",
    "\r\n",
    "    \r\n",
    "\r\n",
    "    examples = []\r\n",
    "    losses = {}\r\n",
    "    for text, annots in trainig_data_init:\r\n",
    "        examples.append(Example.from_dict(nlp.make_doc(text), annots))\r\n",
    "\r\n",
    "        \r\n",
    "    optimizer = nlp.initialize(lambda: examples)\r\n",
    "\r\n",
    "    for i in range(30):\r\n",
    "        random.shuffle(examples)\r\n",
    "        for batch in minibatch(examples, size = compounding(1., 32., 1.001)):\r\n",
    "            nlp.update(\r\n",
    "                batch,\r\n",
    "                drop=0.2,\r\n",
    "                sgd=optimizer,\r\n",
    "                losses = losses,\r\n",
    "            )\r\n",
    "    print(\"Losses: \", losses)\r\n",
    "\r\n",
    "\r\n",
    "    #for text, _ in trainig_data_init:\r\n",
    "    #        target = nlp(text)\r\n",
    "    #        for entity in target.ents:\r\n",
    "    #                print(entity.text, entity.start_char, entity.end_char, entity.label_)\r\n",
    "    #        displacy.render(nlp(target.text), style='ent')\r\n",
    "\r\n",
    "\r\n",
    "\r\n",
    "    nlp.to_disk(\"../training/ner_model\")"
   ],
   "outputs": [],
   "metadata": {}
  },
  {
   "cell_type": "code",
   "execution_count": 40,
   "source": [
    "train_ner_model(train_data_init)"
   ],
   "outputs": [
    {
     "output_type": "stream",
     "name": "stdout",
     "text": [
      "Losses:  {'ner': 2018.4427504197088}\n"
     ]
    }
   ],
   "metadata": {}
  },
  {
   "cell_type": "code",
   "execution_count": 41,
   "source": [
    "doc = nlp(\"To evaluate a nutritional intervention for women newly diagnosed with breast cancer 9 weight control and physical activity program\")\r\n",
    "print(\"Entities\", [(ent.text, ent.label_) for ent in doc.ents])"
   ],
   "outputs": [
    {
     "output_type": "stream",
     "name": "stdout",
     "text": [
      "Entities [('To evaluate', 'Variable'), ('women newly diagnosed', 'Variable'), ('breast cancer', 'Variable'), ('physical activity', 'Variable')]\n"
     ]
    }
   ],
   "metadata": {}
  },
  {
   "cell_type": "code",
   "execution_count": 72,
   "source": [
    "def resume_train_ner_model(train_data):\r\n",
    "    nlp = spacy.load(\"../training/ner_model\")\r\n",
    "\r\n",
    "    examples = []\r\n",
    "    losses = {}\r\n",
    "    for text, annots in train_data:\r\n",
    "        examples.append(Example.from_dict(nlp.make_doc(text), annots))\r\n",
    "\r\n",
    "    optimizer_resume = nlp.resume_training()\r\n",
    "\r\n",
    "    for i in range(int(np.sqrt(len(train_data)))):\r\n",
    "        random.shuffle(examples)\r\n",
    "        for batch in minibatch(examples, size = compounding(1.0, 32.0, 1.001)):\r\n",
    "            nlp.update(\r\n",
    "                batch,\r\n",
    "                drop=0.2,\r\n",
    "                sgd=optimizer_resume,\r\n",
    "                losses = losses,\r\n",
    "            )\r\n",
    "    print(\"Losses: \", losses)\r\n",
    "    print(\"\\nTraining Data\")\r\n",
    "\r\n",
    "    nlp.to_disk(\"../training/ner_model\")"
   ],
   "outputs": [],
   "metadata": {}
  },
  {
   "cell_type": "code",
   "execution_count": 2,
   "source": [
    "def from_csv_to_train_data(datadf, label, colname):\r\n",
    "    output = []\r\n",
    "    datadf[colname] = datadf[colname].astype(str)\r\n",
    "    for index, row in datadf.iterrows():\r\n",
    "        char_start = 0\r\n",
    "        char_end = len(row[colname])\r\n",
    "        output_row = (row[colname], {\"entities\":[(char_start, char_end, label)]})\r\n",
    "        output.append(output_row)\r\n",
    "    return output\r\n",
    "        "
   ],
   "outputs": [],
   "metadata": {}
  },
  {
   "cell_type": "code",
   "execution_count": 59,
   "source": [
    "data_vars = pd.read_csv(\"../training/training_data/varaible_data.csv\")\r\n",
    "data_refs = pd.read_csv(\"../training/training_data/reference_data.csv\")\r\n",
    "data_timepoint_1 = pd.read_csv(\"../training/training_data/timepoint_data.csv\")\r\n",
    "data_change = pd.read_csv(\"../training/training_data/change_data.csv\")\r\n",
    "data_condition = pd.read_csv(\"../training/training_data/condition_data.csv\")"
   ],
   "outputs": [],
   "metadata": {}
  },
  {
   "cell_type": "code",
   "execution_count": 60,
   "source": [
    "data_vars.dropna(inplace=True)\r\n",
    "data_refs.dropna(inplace=True)\r\n",
    "data_timepoint_1.dropna(inplace=True)\r\n",
    "data_change.dropna(inplace=True)\r\n",
    "data_condition.dropna(inplace=True)"
   ],
   "outputs": [],
   "metadata": {}
  },
  {
   "cell_type": "code",
   "execution_count": 58,
   "source": [
    "def filter_dataframe_count(df, col_name):\r\n",
    "    df['word_count'] = df[col_name].str.split().str.len()\r\n",
    "    df_new = df[df['word_count'] <= 2].drop(columns=[\"word_count\"], axis=0)\r\n",
    "\r\n",
    "    return df_new.reset_index(drop=True)"
   ],
   "outputs": [],
   "metadata": {}
  },
  {
   "cell_type": "code",
   "execution_count": 61,
   "source": [
    "# For all Files filter data-entries that are <= 4 words\r\n",
    "\r\n",
    "data_vars = filter_dataframe_count(data_vars, data_vars.iloc[:, 0].name)\r\n",
    "data_refs = filter_dataframe_count(data_refs, data_refs.iloc[:, 0].name)\r\n",
    "data_timepoint_1 = filter_dataframe_count(data_timepoint_1, data_timepoint_1.iloc[:, 0].name)\r\n",
    "data_change = filter_dataframe_count(data_change, data_change.iloc[:, 0].name)\r\n",
    "data_condition = filter_dataframe_count(data_condition, data_condition.iloc[:, 0].name)"
   ],
   "outputs": [],
   "metadata": {}
  },
  {
   "cell_type": "code",
   "execution_count": null,
   "source": [
    "nlp_lemma = spacy.load(\"en_core_web_sm\")\r\n",
    "\r\n",
    "doc = nlp_lemma(u\"Percentage while in a possible probability of recovery\")\r\n",
    "lema_list = []\r\n",
    "for token in doc:\r\n",
    "    lema_list.append(token.lemma_)\r\n",
    "all_stopwords = nlp_lemma.Defaults.stop_words\r\n"
   ],
   "outputs": [],
   "metadata": {}
  },
  {
   "cell_type": "code",
   "execution_count": null,
   "source": [
    "lema_list"
   ],
   "outputs": [],
   "metadata": {}
  },
  {
   "cell_type": "code",
   "execution_count": null,
   "source": [
    "tokens_without_sw= [word for word in lema_list if not word in all_stopwords]\r\n",
    "\r\n",
    "print(tokens_without_sw)"
   ],
   "outputs": [],
   "metadata": {}
  },
  {
   "cell_type": "code",
   "execution_count": 75,
   "source": [
    "nlp_test = spacy.load(\"../training/ner_model\")"
   ],
   "outputs": [],
   "metadata": {}
  },
  {
   "cell_type": "code",
   "execution_count": 100,
   "source": [
    "# data_filtered_raw= pd.read_csv(\"../backend/input_data_filtered.csv\")"
   ],
   "outputs": [],
   "metadata": {}
  },
  {
   "cell_type": "code",
   "execution_count": 101,
   "source": [
    "\r\n",
    "\r\n",
    "# annotator = spa.Annotator(labels = [\"Condition\", \"Reference\", \"Change\", \"Timepoint\", \"Variable\"], model = nlp_test)\r\n",
    "\r\n",
    "# df_labels = annotator.annotate(df = data_filtered_raw[0:25], col_text = \"SecondaryOutcomeMeasure\", shuffle = True)"
   ],
   "outputs": [
    {
     "output_type": "display_data",
     "data": {
      "application/vnd.jupyter.widget-view+json": {
       "version_major": 2,
       "version_minor": 0,
       "model_id": "255ff44108e54aa889df92cbfad07efb"
      },
      "text/plain": [
       "HTML(value='-1 examples annotated, 26 examples left')"
      ]
     },
     "metadata": {}
    },
    {
     "output_type": "display_data",
     "data": {
      "application/vnd.jupyter.widget-view+json": {
       "version_major": 2,
       "version_minor": 0,
       "model_id": "896eb66c1a9c45e39ac4f3e2f7e9650c"
      },
      "text/plain": [
       "Text(value='', description='Condition', layout=Layout(width='auto'), placeholder='ent one, ent two, ent three'…"
      ]
     },
     "metadata": {}
    },
    {
     "output_type": "display_data",
     "data": {
      "application/vnd.jupyter.widget-view+json": {
       "version_major": 2,
       "version_minor": 0,
       "model_id": "9e366127f1174328b161dd2730b4d39f"
      },
      "text/plain": [
       "Text(value='', description='Reference', layout=Layout(width='auto'), placeholder='ent one, ent two, ent three'…"
      ]
     },
     "metadata": {}
    },
    {
     "output_type": "display_data",
     "data": {
      "application/vnd.jupyter.widget-view+json": {
       "version_major": 2,
       "version_minor": 0,
       "model_id": "6b02ad376a4a47c98c86800e574f9804"
      },
      "text/plain": [
       "Text(value='', description='Change', layout=Layout(width='auto'), placeholder='ent one, ent two, ent three')"
      ]
     },
     "metadata": {}
    },
    {
     "output_type": "display_data",
     "data": {
      "application/vnd.jupyter.widget-view+json": {
       "version_major": 2,
       "version_minor": 0,
       "model_id": "91f70f5a6d6a493489799cc519af3e7b"
      },
      "text/plain": [
       "Text(value='', description='Timepoint', layout=Layout(width='auto'), placeholder='ent one, ent two, ent three'…"
      ]
     },
     "metadata": {}
    },
    {
     "output_type": "display_data",
     "data": {
      "application/vnd.jupyter.widget-view+json": {
       "version_major": 2,
       "version_minor": 0,
       "model_id": "ca44e689cae647b6b5c086bd014b1f4a"
      },
      "text/plain": [
       "Text(value='', description='Variable', layout=Layout(width='auto'), placeholder='ent one, ent two, ent three')"
      ]
     },
     "metadata": {}
    },
    {
     "output_type": "display_data",
     "data": {
      "application/vnd.jupyter.widget-view+json": {
       "version_major": 2,
       "version_minor": 0,
       "model_id": "5d39ea6f3ae04d82930343dac3cc20d3"
      },
      "text/plain": [
       "HBox(children=(Button(button_style='success', description='submit', style=ButtonStyle()), Button(button_style=…"
      ]
     },
     "metadata": {}
    },
    {
     "output_type": "display_data",
     "data": {
      "application/vnd.jupyter.widget-view+json": {
       "version_major": 2,
       "version_minor": 0,
       "model_id": "4a9ec2c852cf4e14847578a8c07861c2"
      },
      "text/plain": [
       "Output()"
      ]
     },
     "metadata": {}
    },
    {
     "output_type": "display_data",
     "data": {
      "application/vnd.jupyter.widget-view+json": {
       "version_major": 2,
       "version_minor": 0,
       "model_id": "9e904f096747493ba97d2147d29599f0"
      },
      "text/plain": [
       "HTML(value='')"
      ]
     },
     "metadata": {}
    }
   ],
   "metadata": {}
  },
  {
   "cell_type": "code",
   "execution_count": 105,
   "source": [
    "# train_data_init.append(list(df_labels[\"annotations\"]))"
   ],
   "outputs": [],
   "metadata": {}
  },
  {
   "cell_type": "code",
   "execution_count": 106,
   "source": [
    "# train_data_init"
   ],
   "outputs": [
    {
     "output_type": "execute_result",
     "data": {
      "text/plain": [
       "[('Adjusted Mean Change From Baseline in Fasting Plasma Glucose at Week 24 (Last Observation Carried Forward [LOCF])',\n",
       "  {'entities': [(0, 20, 'Change'),\n",
       "    (26, 34, 'Reference'),\n",
       "    (38, 60, 'Variable'),\n",
       "    (64, 71, 'Timepoint')]}),\n",
       " ('Number of Participants With Abnormal Electrocardiogram (ECG) Interval',\n",
       "  {'entities': [(0, 22, 'Change'), (28, 69, 'Variable')]}),\n",
       " ('Number of Children With Documented Risk Factors for Type 2 Diabetes',\n",
       "  {'entities': [(0, 18, 'Change'),\n",
       "    (24, 47, 'Variable'),\n",
       "    (52, 67, 'Condition')]}),\n",
       " ('Validation of SCOUT DS algorithm for detecting known type 2 diabetes',\n",
       "  {'entities': [(0, 10, 'Reference'),\n",
       "    (14, 32, 'Variable'),\n",
       "    (53, 68, 'Condition')]}),\n",
       " ('The main outcome is the comparison of total volumetric bone mineral density (vBMD) at the tibia and distal radius',\n",
       "  {'entities': [(9, 16, 'Change'),\n",
       "    (24, 34, 'Reference'),\n",
       "    (38, 82, 'Variable')]}),\n",
       " ('Number of Participants with undiagnosed type 2 diabetes',\n",
       "  {'entities': [(0, 22, 'Change'), (40, 55, 'Condition')]}),\n",
       " ('2 months', {'entities': [(0, 8, 'Timepoint')]}),\n",
       " ('Explore if there was any difference in the number of participants with a high risk of developing type 2 diabetes in the risk test only (RTO)- group and the group that also offered a HbA1c-measurement (HbA1c-group)',\n",
       "  {'entities': [(43, 65, 'Change'),\n",
       "    (97, 112, 'Condition'),\n",
       "    (120, 147, 'Variable'),\n",
       "    (182, 213, 'Variable')]}),\n",
       " ('Baseline', {'entities': [(0, 8, 'Reference')]}),\n",
       " ('Correlation between NF-кB dependent-proinflammation markers and osteoblast-specific gene expression in the MSC to measure the effects of NF-кB dependent-proinflammation on differentiation potential toward osteoblast in type 2 diabetes.',\n",
       "  {'entities': [(0, 11, 'Reference'),\n",
       "    (20, 59, 'Variable'),\n",
       "    (64, 110, 'Variable'),\n",
       "    (219, 234, 'Condition')]}),\n",
       " ('2-4 weeks', {'entities': [(0, 9, 'Timepoint')]}),\n",
       " ('Characteristic of type 2 diabetes patients, treated with insulin in Guadeloupe',\n",
       "  {'entities': [(0, 14, 'Change'),\n",
       "    (18, 33, 'Condition'),\n",
       "    (34, 42, 'Reference'),\n",
       "    (57, 64, 'Variable')]}),\n",
       " ('Trough study completion, an average of 2 years',\n",
       "  {'entities': [(28, 46, 'Timepoint')]}),\n",
       " ('Describe the relation between the rate of HbAC and the plan of insulinothérapie',\n",
       "  {'entities': [(13, 21, 'Reference'),\n",
       "    (34, 46, 'Variable'),\n",
       "    (55, 79, 'Variable')]}),\n",
       " ('Change in baseline A1C (glycated hemoglobin) at 12 months',\n",
       "  {'entities': [(0, 6, 'Change'),\n",
       "    (10, 18, 'Reference'),\n",
       "    (19, 44, 'Variable'),\n",
       "    (48, 57, 'Timepoint')]}),\n",
       " ('12 months', {'entities': [(0, 9, 'Timepoint')]}),\n",
       " ('Change in baseline lipids at 12 months',\n",
       "  {'entities': [(0, 6, 'Change'),\n",
       "    (10, 18, 'Reference'),\n",
       "    (19, 25, 'Variable'),\n",
       "    (29, 38, 'Timepoint')]}),\n",
       " ('Change in baseline blood pressure at 12 months',\n",
       "  {'entities': [(0, 6, 'Change'),\n",
       "    (10, 18, 'Reference'),\n",
       "    (19, 33, 'Variable'),\n",
       "    (37, 46, 'Timepoint')]}),\n",
       " ('Change in baseline Quality of life at 12 months',\n",
       "  {'entities': [(0, 6, 'Change'),\n",
       "    (10, 18, 'Reference'),\n",
       "    (19, 34, 'Variable'),\n",
       "    (38, 47, 'Timepoint')]}),\n",
       " ('Change in baseline insulin satisfaction at 12 months',\n",
       "  {'entities': [(0, 6, 'Change'),\n",
       "    (10, 18, 'Reference'),\n",
       "    (19, 39, 'Variable'),\n",
       "    (43, 52, 'Timepoint')]}),\n",
       " ('Feasibility of implementing the intervention in primary care: Binary outcome (feasible / not feasible), as judged by the investigators',\n",
       "  {'entities': [(32, 44, 'Variable'),\n",
       "    (62, 76, 'Change'),\n",
       "    (121, 134, 'Reference')]}),\n",
       " ('3 months', {'entities': [(0, 8, 'Timepoint')]}),\n",
       " ('Recall of personalised risk information',\n",
       "  {'entities': [(0, 6, 'Reference'), (10, 39, 'Variable')]}),\n",
       " ('Intentions to make lifestyle changes',\n",
       "  {'entities': [(19, 36, 'Variable')]}),\n",
       " ('Change in self-management behaviour',\n",
       "  {'entities': [(0, 6, 'Change'), (10, 35, 'Variable')]}),\n",
       " ('Change in HbA1c Baseline to End of Trial in TINSAL-T2D Stage 1',\n",
       "  {'entities': [(0, 6, 'Change'),\n",
       "    (10, 15, 'Variable'),\n",
       "    (16, 24, 'Reference')]}),\n",
       " ('14 week', {'entities': [(0, 7, 'Timepoint')]}),\n",
       " ('Change in HbA1c', {'entities': [(0, 15, 'Change')]}),\n",
       " ('Change From Baseline and Trends in Fasting Glucose Over Time',\n",
       "  {'entities': [(0, 6, 'Change'),\n",
       "    (12, 20, 'Reference'),\n",
       "    (25, 31, 'Reference'),\n",
       "    (35, 50, 'Variable')]}),\n",
       " ('Change in Lipids', {'entities': [(0, 16, 'Change')]}),\n",
       " ('Change From Baseline in 14-week Insulin',\n",
       "  {'entities': [(0, 6, 'Change'),\n",
       "    (12, 20, 'Reference'),\n",
       "    (24, 31, 'Timepoint'),\n",
       "    (32, 39, 'Variable')]}),\n",
       " ('Change in Insulin', {'entities': [(0, 17, 'Change')]}),\n",
       " ('Neuroendocrine Tumor of Pancreas', {'entities': [(15, 32, 'Condition')]}),\n",
       " ('Number of levels assessed', {'entities': [(0, 16, 'Change')]}),\n",
       " ('Instances of hypoglycemia', {'entities': [(13, 25, 'Variable')]}),\n",
       " ('percentage of average nicotine binding',\n",
       "  {'entities': [(22, 38, 'Variable')]}),\n",
       " ('Number of unsupervised injections', {'entities': [(0, 33, 'Change')]}),\n",
       " ('Renal Replacement Therapy', {'entities': [(0, 25, 'Variable')]}),\n",
       " ('Polysomnographic recording of nocturnal sleep',\n",
       "  {'entities': [(17, 45, 'Variable')]}),\n",
       " ('percent predicted of FEV1 per year',\n",
       "  {'entities': [(21, 25, 'Variable'), (30, 34, 'Timepoint')]}),\n",
       " ('Change in percent time missed', {'entities': [(0, 29, 'Change')]}),\n",
       " ('Recurrence, Detection rate per patient of PET-PSMA for the detection of biochemical recurrence.',\n",
       "  {'entities': [(0, 10, 'Change'),\n",
       "    (12, 38, 'Reference'),\n",
       "    (42, 50, 'Variable'),\n",
       "    (72, 94, 'Variable')]}),\n",
       " ('Circulating endothelial progenitor cells concentration and microparticles derived from endothelial cells',\n",
       "  {'entities': [(0, 54, 'Variable'), (59, 104, 'Variable')]}),\n",
       " ('Peak anti-Xa activity', {'entities': [(5, 21, 'Variable')]}),\n",
       " ('Clinical Evolution', {'entities': [(0, 18, 'Reference')]}),\n",
       " ('Geometric Mean Ratio|90% confidence intervals', {'entities': []}),\n",
       " ('In-segment late lumen loss', {'entities': [(0, 26, 'Change')]}),\n",
       " ('Reading speed day 0|Reading speed M3', {'entities': [(0, 13, 'Change')]}),\n",
       " ('Number of patients who died for fournier gangrene',\n",
       "  {'entities': [(32, 49, 'Condition'), (0, 18, 'Change')]}),\n",
       " ('Feedback of individual fellow in training on virtual and simulator based learning.',\n",
       "  {'entities': [(0, 22, 'Reference'),\n",
       "    (33, 52, 'Variable'),\n",
       "    (57, 81, 'Variable')]}),\n",
       " ('Introductory Information Form (questionnaire)|Health Belief Model Scale in Obesity (questionnaire-scale)|Health Belief Model Scale in Obesity-Importance of Health (questionnaire-scale)|Health Belief Model Scale in Obesity- Perceived sensitivity (questionnaire-scale)|Health Belief Model Scale in Obesity- Perceived severity (questionnaire-scale)|Health Belief Model Scale in Obesity- Perceived benefit (questionnaire-scale)|Health Belief Model Scale in Obesity- Perceived barrier (questionnaire-scale)|Height Meter|weighing machine|body mass index calculation',\n",
       "  {'entities': [(142, 152, 'Reference'),\n",
       "    (223, 244, 'Reference'),\n",
       "    (384, 401, 'Reference'),\n",
       "    (66, 82, 'Change'),\n",
       "    (125, 141, 'Change'),\n",
       "    (462, 479, 'Variable'),\n",
       "    (537, 559, 'Variable')]}),\n",
       " ('Change of post-traumatic stress symptoms',\n",
       "  {'entities': [(0, 40, 'Change')]}),\n",
       " ('Number of patients without intubation',\n",
       "  {'entities': [(0, 18, 'Change'), (27, 37, 'Variable')]}),\n",
       " ('Effect of Threat Appraisal on Vaping Intention',\n",
       "  {'entities': [(0, 26, 'Variable'), (30, 46, 'Variable')]}),\n",
       " ('prevalence of peri-implantitis',\n",
       "  {'entities': [(14, 30, 'Condition'), (0, 10, 'Variable')]}),\n",
       " ('Evaluation of video',\n",
       "  {'entities': [(0, 10, 'Reference'), (14, 19, 'Variable')]}),\n",
       " ('correlation of disease severity with results of laboratory test',\n",
       "  {'entities': [(0, 11, 'Reference'),\n",
       "    (15, 31, 'Variable'),\n",
       "    (37, 63, 'Variable')]}),\n",
       " ('Cognition-Global cognition|Cognition-Global cognition|Cognition-Global cognition|Cognition-Global cognition|Cognition-Global cognition|Cognition-memory|Cognition-memory|Cognition-memory|Cognition-memory|Cognition-memory|Cognition-attention|Cognition-attention|Cognition-attention|Cognition-attention|Cognition-attention|Cognition-visual/spatial function|Cognition-visual/spatial function|Cognition-visual/spatial function|Cognition-visual/spatial function|Cognition-visual/spatial function|Cognition-executive function|Cognition-executive function|Cognition-executive function|Cognition-executive function|Cognition-executive function',\n",
       "  {'entities': [(0, 16, 'Variable')]}),\n",
       " ('Pelvic Examination of Anxiety',\n",
       "  {'entities': [(22, 29, 'Condition'), (0, 18, 'Variable')]}),\n",
       " ('Detection rate per patient of PET-PSMA for the detection of biochemical recurrence.',\n",
       "  {'entities': [(0, 9, 'Reference'),\n",
       "    (47, 56, 'Reference'),\n",
       "    (10, 26, 'Change'),\n",
       "    (30, 38, 'Variable'),\n",
       "    (60, 82, 'Variable')]}),\n",
       " ('post-operative pain', {'entities': [(0, 19, 'Condition')]}),\n",
       " ('Visual Analog Scale(VAS)|Neck Pain And Disability Scale (NPDS)|Neck and jaw range of motion (ROM)',\n",
       "  {'entities': [(39, 49, 'Variable'), (50, 67, 'Variable')]}),\n",
       " ('Incidence of treatment-emergent adverse events (TEAE) by skin irritation assessments|Incidence of treatment-emergent adverse events (TEAE) by vital signs measurements|Incidence of treatment-emergent adverse events (TEAE) by ECG assessment|Incidence of treatment-emergent adverse events (TEAE) by clinical lab tests|Incidence of study drug related TEAEs',\n",
       "  {'entities': [(13, 53, 'Variable'),\n",
       "    (98, 138, 'Variable'),\n",
       "    (180, 220, 'Variable'),\n",
       "    (252, 292, 'Variable'),\n",
       "    (328, 352, 'Variable')]}),\n",
       " ('Krebs von den Lungen - 6 (KL-6)',\n",
       "  {'entities': [(0, 5, 'Condition'), (14, 31, 'Variable')]}),\n",
       " ('MMP8, MMP9|IL1, IL6,IL8,IL17|TNF alfa|RANK-L|OPG',\n",
       "  {'entities': [(0, 4, 'Change')]}),\n",
       " [('OVCA', {'entities': [(0, 4, 'Condition')]}),\n",
       "  ('Cervical Lymphadenopathy', {'entities': [(0, 24, 'Condition')]}),\n",
       "  ('Esophageal Cancers', {'entities': [(0, 18, 'Condition')]}),\n",
       "  ('MF', {'entities': [(0, 2, 'Condition')]}),\n",
       "  ('Degenerative; Dementia', {'entities': []}),\n",
       "  ('AOMT', {'entities': [(0, 4, 'Condition')]}),\n",
       "  ('SARS-COV-2', {'entities': [(0, 10, 'Condition')]}),\n",
       "  ('Behavior, Sedentary',\n",
       "   {'entities': [(0, 8, 'Condition'), (10, 19, 'Condition')]}),\n",
       "  ('Neoplasms/Therapy', {'entities': [(0, 17, 'Condition')]}),\n",
       "  '',\n",
       "  ('Abstinence Syndrome', {'entities': [(0, 19, 'Condition')]}),\n",
       "  ('Invasive Mycosis', {'entities': [(0, 16, 'Condition')]}),\n",
       "  ('Physician-Patient Relationship', {'entities': [(0, 30, 'Reference')]}),\n",
       "  ('Impacted Stones', {'entities': [(0, 15, 'Condition')]}),\n",
       "  ('Mannosidosis', {'entities': [(0, 12, 'Condition')]}),\n",
       "  ('Urinary Stones', {'entities': [(0, 14, 'Condition')]}),\n",
       "  ('Invasive Cancer', {'entities': [(0, 15, 'Condition')]}),\n",
       "  ('Foot Deformities', {'entities': [(0, 16, 'Condition')]}),\n",
       "  ('Craniotomy Surgery', {'entities': [(0, 18, 'Condition')]}),\n",
       "  ('Partner, Domestic', {'entities': []}),\n",
       "  ('Cheek', {'entities': []}),\n",
       "  ('Polydipsia, Primary', {'entities': [(0, 10, 'Condition')]}),\n",
       "  ('Breast Ptosis', {'entities': [(0, 13, 'Condition')]}),\n",
       "  ('Education, Medical',\n",
       "   {'entities': [(0, 9, 'Variable'), (11, 18, 'Variable')]}),\n",
       "  (\"Nurse's Role\", {'entities': []})],\n",
       " [('Change of depression|Fuctional Health|College to adaptation',\n",
       "   {'entities': []}),\n",
       "  '',\n",
       "  ('Target lesion failure', {'entities': [(0, 21, 'Variable')]}),\n",
       "  ('Physical function-IADL|Physical function-IADL|Physical function-IADL|Physical function-IADL|Physical function-IADL|Physical function-senior fitness test (SFT)|Physical function-senior fitness test (SFT)|Physical function-senior fitness test (SFT)|Physical function-senior fitness test (SFT)|Physical function-senior fitness test (SFT)|Physical function-unipedal stance test (UST)|Physical function-unipedal stance test (UST)|Physical function-unipedal stance test (UST)|Physical function-unipedal stance test (UST)|Physical function-unipedal stance test (UST)|Psychosocial factors-Global Well-Being Scale (GWBS)|Psychosocial factors-Global Well-Being Scale (GWBS)|Psychosocial factors-Global Well-Being Scale (GWBS)|Psychosocial factors-Global Well-Being Scale (GWBS)|Psychosocial factors-Global Well-Being Scale (GWBS)|Psychosocial factors-Interpersonal Relationship Scale (IRS)|Psychosocial factors-Interpersonal Relationship Scale (IRS)|Psychosocial factors-Interpersonal Relationship Scale (IRS)|Psychosocial factors-Interpersonal Relationship Scale (IRS)|Psychosocial factors-Interpersonal Relationship Scale (IRS)|Psychosocial factors-Geriatric Depression Scale-Short Form (GDS-SF)|Psychosocial factors-Geriatric Depression Scale-Short Form (GDS-SF)|Psychosocial factors-Geriatric Depression Scale-Short Form (GDS-SF)|Psychosocial factors-Geriatric Depression Scale-Short Form (GDS-SF)|Psychosocial factors-Geriatric Depression Scale-Short Form (GDS-SF)|Quality of Life-EQ5D-Utility|Quality of Life-EQ5D-Utility|Quality of Life-EQ5D-Utility|Quality of Life-EQ5D-Utility|Quality of Life-EQ5D-Utility|Quality of Life-EQ5D-visual analogue scale|Quality of Life-EQ5D-visual analogue scale|Quality of Life-EQ5D-visual analogue scale|Quality of Life-EQ5D-visual analogue scale|Quality of Life-EQ5D-visual analogue scale',\n",
       "   {'entities': []}),\n",
       "  ('Visual acuity using the ETDRS chart day 0|Visual acuity using the ETDRS chartM3|Maculare thickness Day0|Maculare thickness M3',\n",
       "   {'entities': [(0, 13, 'Reference'), (24, 35, 'Reference')]}),\n",
       "  '',\n",
       "  '',\n",
       "  ('Effect of Perceived Vulnerability on Intention|Effect of Perceived Severity on Intention',\n",
       "   {'entities': [(0, 6, 'Reference'),\n",
       "     (10, 33, 'Change'),\n",
       "     (79, 88, 'Variable')]}),\n",
       "  ('Pharmacokinetics parameter|Pharmacokinetics parameter', {'entities': []}),\n",
       "  '',\n",
       "  '',\n",
       "  ('Pharmacokinetics parameter|Pharmacokinetics parameter', {'entities': []}),\n",
       "  ('Pittsburg Sleep Quality Index (PUQI)|Beck Depression Inventory (BDI)|Short Form 36 (SF36)',\n",
       "   {'entities': []}),\n",
       "  ('Level of oxidative stress|Level of micro inflammation|Level of endothelial dysfunction|Blood pressure|Glomerular filtration ratio|Microalbuminuria / Proteinuria',\n",
       "   {'entities': []}),\n",
       "  '',\n",
       "  ('Agreement of abnormalities in coagulation profile with measured inflammatory markers',\n",
       "   {'entities': [(55, 84, 'Reference'), (30, 49, 'Variable')]}),\n",
       "  ('CAL|PPD|GI|FMPS|FMBS', {'entities': []}),\n",
       "  ('Trough anti-Xa activity|AUC (0-24h)',\n",
       "   {'entities': [(29, 34, 'Timepoint')]}),\n",
       "  ('Detection rate per region of PSMA-PET for the detection of biochemical recurrence',\n",
       "   {'entities': [(0, 25, 'Reference'),\n",
       "     (59, 81, 'Change'),\n",
       "     (29, 37, 'Variable')]}),\n",
       "  '',\n",
       "  ('Time to pre-visit PROMIS form completion|PROMIS form completion rates according to patient demographics',\n",
       "   {'entities': [(83, 103, 'Reference'), (0, 24, 'Variable')]}),\n",
       "  ('Respiratory Function Assessment; FEV1|Respiratory Function Assessment; FVC|Respiratory Function Assessment; FEV/FVC Ratio|Respiratory Function Assessment; 6MWD|Respiratory Function Assessment; % O2 desaturation',\n",
       "   {'entities': []}),\n",
       "  '',\n",
       "  '',\n",
       "  ''],\n",
       " [('Change of depression|Fuctional Health|College to adaptation',\n",
       "   {'entities': []}),\n",
       "  '',\n",
       "  ('Target lesion failure', {'entities': [(0, 21, 'Variable')]}),\n",
       "  ('Physical function-IADL|Physical function-IADL|Physical function-IADL|Physical function-IADL|Physical function-IADL|Physical function-senior fitness test (SFT)|Physical function-senior fitness test (SFT)|Physical function-senior fitness test (SFT)|Physical function-senior fitness test (SFT)|Physical function-senior fitness test (SFT)|Physical function-unipedal stance test (UST)|Physical function-unipedal stance test (UST)|Physical function-unipedal stance test (UST)|Physical function-unipedal stance test (UST)|Physical function-unipedal stance test (UST)|Psychosocial factors-Global Well-Being Scale (GWBS)|Psychosocial factors-Global Well-Being Scale (GWBS)|Psychosocial factors-Global Well-Being Scale (GWBS)|Psychosocial factors-Global Well-Being Scale (GWBS)|Psychosocial factors-Global Well-Being Scale (GWBS)|Psychosocial factors-Interpersonal Relationship Scale (IRS)|Psychosocial factors-Interpersonal Relationship Scale (IRS)|Psychosocial factors-Interpersonal Relationship Scale (IRS)|Psychosocial factors-Interpersonal Relationship Scale (IRS)|Psychosocial factors-Interpersonal Relationship Scale (IRS)|Psychosocial factors-Geriatric Depression Scale-Short Form (GDS-SF)|Psychosocial factors-Geriatric Depression Scale-Short Form (GDS-SF)|Psychosocial factors-Geriatric Depression Scale-Short Form (GDS-SF)|Psychosocial factors-Geriatric Depression Scale-Short Form (GDS-SF)|Psychosocial factors-Geriatric Depression Scale-Short Form (GDS-SF)|Quality of Life-EQ5D-Utility|Quality of Life-EQ5D-Utility|Quality of Life-EQ5D-Utility|Quality of Life-EQ5D-Utility|Quality of Life-EQ5D-Utility|Quality of Life-EQ5D-visual analogue scale|Quality of Life-EQ5D-visual analogue scale|Quality of Life-EQ5D-visual analogue scale|Quality of Life-EQ5D-visual analogue scale|Quality of Life-EQ5D-visual analogue scale',\n",
       "   {'entities': []}),\n",
       "  ('Visual acuity using the ETDRS chart day 0|Visual acuity using the ETDRS chartM3|Maculare thickness Day0|Maculare thickness M3',\n",
       "   {'entities': [(0, 13, 'Reference'), (24, 35, 'Reference')]}),\n",
       "  '',\n",
       "  '',\n",
       "  ('Effect of Perceived Vulnerability on Intention|Effect of Perceived Severity on Intention',\n",
       "   {'entities': [(0, 6, 'Reference'),\n",
       "     (10, 33, 'Change'),\n",
       "     (79, 88, 'Variable')]}),\n",
       "  ('Pharmacokinetics parameter|Pharmacokinetics parameter', {'entities': []}),\n",
       "  '',\n",
       "  '',\n",
       "  ('Pharmacokinetics parameter|Pharmacokinetics parameter', {'entities': []}),\n",
       "  ('Pittsburg Sleep Quality Index (PUQI)|Beck Depression Inventory (BDI)|Short Form 36 (SF36)',\n",
       "   {'entities': []}),\n",
       "  ('Level of oxidative stress|Level of micro inflammation|Level of endothelial dysfunction|Blood pressure|Glomerular filtration ratio|Microalbuminuria / Proteinuria',\n",
       "   {'entities': []}),\n",
       "  '',\n",
       "  ('Agreement of abnormalities in coagulation profile with measured inflammatory markers',\n",
       "   {'entities': [(55, 84, 'Reference'), (30, 49, 'Variable')]}),\n",
       "  ('CAL|PPD|GI|FMPS|FMBS', {'entities': []}),\n",
       "  ('Trough anti-Xa activity|AUC (0-24h)',\n",
       "   {'entities': [(29, 34, 'Timepoint')]}),\n",
       "  ('Detection rate per region of PSMA-PET for the detection of biochemical recurrence',\n",
       "   {'entities': [(0, 25, 'Reference'),\n",
       "     (59, 81, 'Change'),\n",
       "     (29, 37, 'Variable')]}),\n",
       "  '',\n",
       "  ('Time to pre-visit PROMIS form completion|PROMIS form completion rates according to patient demographics',\n",
       "   {'entities': [(83, 103, 'Reference'), (0, 24, 'Variable')]}),\n",
       "  ('Respiratory Function Assessment; FEV1|Respiratory Function Assessment; FVC|Respiratory Function Assessment; FEV/FVC Ratio|Respiratory Function Assessment; 6MWD|Respiratory Function Assessment; % O2 desaturation',\n",
       "   {'entities': []}),\n",
       "  '',\n",
       "  '',\n",
       "  '']]"
      ]
     },
     "metadata": {},
     "execution_count": 106
    }
   ],
   "metadata": {}
  },
  {
   "cell_type": "code",
   "execution_count": null,
   "source": [
    "test = nlp_test(\" \".join(tokens_without_sw))\r\n",
    "\r\n",
    "print(\"Entities\", [(ent.text, ent.label_) for ent in test.ents])"
   ],
   "outputs": [],
   "metadata": {}
  },
  {
   "cell_type": "code",
   "execution_count": 63,
   "source": [
    "data_var_training = from_csv_to_train_data(data_vars, \"Variable\", \"units_analyzed\")\r\n",
    "data_ref_training = from_csv_to_train_data(data_refs, \"Reference\", \"param_type\")\r\n",
    "data_timepoint_training = from_csv_to_train_data(data_timepoint_1, \"Timepoint\", \"target_duration\")\r\n",
    "data_change_training = from_csv_to_train_data(data_change, \"Change\", \"units\")\r\n",
    "data_condition_training = from_csv_to_train_data(data_condition, \"Condition\", \"name\")"
   ],
   "outputs": [],
   "metadata": {}
  },
  {
   "cell_type": "code",
   "execution_count": 64,
   "source": [
    "print(len(data_var_training))\r\n",
    "print(len(data_ref_training))\r\n",
    "print(len(data_timepoint_training))\r\n",
    "print(len(data_change_training))\r\n",
    "print(len(data_condition_training))"
   ],
   "outputs": [
    {
     "output_type": "stream",
     "name": "stdout",
     "text": [
      "682\n",
      "9\n",
      "162\n",
      "10251\n",
      "35602\n"
     ]
    }
   ],
   "metadata": {}
  },
  {
   "cell_type": "code",
   "execution_count": 111,
   "source": [
    "training_data = data_ref_training + data_change_training[0:300] + data_timepoint_training + data_var_training[0:300] + data_condition_training[0:300] + train_data_init"
   ],
   "outputs": [],
   "metadata": {}
  },
  {
   "cell_type": "code",
   "execution_count": 112,
   "source": [
    "data_to_train = random.sample(training_data, len(training_data))\r\n",
    "data_to_train_portion = data_to_train[0:500]\r\n",
    "print(len(data_to_train_portion))"
   ],
   "outputs": [
    {
     "output_type": "stream",
     "name": "stdout",
     "text": [
      "500\n"
     ]
    }
   ],
   "metadata": {}
  },
  {
   "cell_type": "code",
   "execution_count": 113,
   "source": [
    "print(data_to_train_portion[0:10])"
   ],
   "outputs": [
    {
     "output_type": "stream",
     "name": "stdout",
     "text": [
      "[('Benign lesions', {'entities': [(0, 14, 'Variable')]}), ('Change From Baseline in 14-week Insulin', {'entities': [(0, 6, 'Change'), (12, 20, 'Reference'), (24, 31, 'Timepoint'), (32, 39, 'Variable')]}), ('Treatment Cycles', {'entities': [(0, 16, 'Variable')]}), ('Ankylosing Spondyliti', {'entities': [(0, 21, 'Condition')]}), ('Gambling Addiction', {'entities': [(0, 18, 'Condition')]}), ('Overall Treatments', {'entities': [(0, 18, 'Variable')]}), ('PDC, mean', {'entities': [(0, 9, 'Change')]}), ('pmole/L', {'entities': [(0, 7, 'Change')]}), ('Change in baseline blood pressure at 12 months', {'entities': [(0, 6, 'Change'), (10, 18, 'Reference'), (19, 33, 'Variable'), (37, 46, 'Timepoint')]}), ('Tumor foci', {'entities': [(0, 10, 'Variable')]})]\n"
     ]
    }
   ],
   "metadata": {}
  },
  {
   "cell_type": "code",
   "execution_count": 114,
   "source": [
    "resume_train_ner_model(data_to_train_portion)"
   ],
   "outputs": [
    {
     "output_type": "stream",
     "name": "stdout",
     "text": [
      "Losses:  {'ner': 1310.7787500464754}\n",
      "\n",
      "Training Data\n"
     ]
    }
   ],
   "metadata": {}
  },
  {
   "cell_type": "code",
   "execution_count": 115,
   "source": [
    "doc = nlp_test(\"To evaluate a nutritional intervention for women newly diagnosed with breast cancer 9 weight control and physical activity program\")\r\n",
    "print(\"Entities\", [(ent.text, ent.label_) for ent in doc.ents])"
   ],
   "outputs": [
    {
     "output_type": "stream",
     "name": "stdout",
     "text": [
      "Entities [('To evaluate a nutritional intervention', 'Change'), ('9 weight', 'Timepoint')]\n"
     ]
    }
   ],
   "metadata": {}
  },
  {
   "cell_type": "code",
   "execution_count": 92,
   "source": [
    "nlp_test = spacy.load(\"../training/ner_model\")"
   ],
   "outputs": [],
   "metadata": {}
  },
  {
   "cell_type": "code",
   "execution_count": null,
   "source": [
    "for text, _ in data_to_train_portion:\r\n",
    "\r\n",
    "        target = nlp_test(text)\r\n",
    "        for entity in target.ents:\r\n",
    "                #print(entity.text, entity.start_char, entity.end_char, entity.label_)\r\n",
    "                displacy.render(nlp_test(target.text), style='ent')"
   ],
   "outputs": [],
   "metadata": {}
  }
 ],
 "metadata": {
  "interpreter": {
   "hash": "b3ba2566441a7c06988d0923437866b63cedc61552a5af99d1f4fb67d367b25f"
  },
  "kernelspec": {
   "name": "python3",
   "display_name": "Python 3.8.8 64-bit ('base': conda)"
  },
  "language_info": {
   "codemirror_mode": {
    "name": "ipython",
    "version": 3
   },
   "file_extension": ".py",
   "mimetype": "text/x-python",
   "name": "python",
   "nbconvert_exporter": "python",
   "pygments_lexer": "ipython3",
   "version": "3.8.8"
  },
  "orig_nbformat": 2
 },
 "nbformat": 4,
 "nbformat_minor": 2
}