{
 "cells": [
  {
   "cell_type": "code",
   "execution_count": 1,
   "source": [
    "import spacy, random\r\n",
    "import spacy_annotator as spa\r\n",
    "import numpy as np\r\n",
    "from spacy.util import minibatch, compounding\r\n",
    "from pathlib import Path\r\n",
    "from spacy.training import Example\r\n",
    "from spacy import displacy\r\n",
    "import pandas as pd\r\n",
    "from training_data.custom_training_data import train_data_init"
   ],
   "outputs": [],
   "metadata": {}
  },
  {
   "cell_type": "code",
   "execution_count": 2,
   "source": [
    "# Init GPU-Usage, load blank model with basis of en_core_web_sm and\r\n",
    "# enable only NER in the pipeline\r\n",
    "\r\n",
    "spacy.prefer_gpu()\r\n",
    "nlp = spacy.blank('en')\r\n",
    "source_nlp = spacy.load(\"en_core_web_sm\")\r\n",
    "nlp.add_pipe(\"ner\", source=source_nlp)\r\n",
    "\r\n",
    "# Init tracker for training loss with traing_data\r\n",
    "\r\n",
    "current_loss = 0\r\n",
    "training_data_init = train_data_init"
   ],
   "outputs": [],
   "metadata": {}
  },
  {
   "cell_type": "code",
   "execution_count": 3,
   "source": [
    "'''\r\n",
    "@author Ervin Joa\r\n",
    "\r\n",
    "Init-Training of a custom NER-Model with droprate of 20%\r\n",
    "\r\n",
    "@param: list of manually labeled training data\r\n",
    "\r\n",
    "@return current_loss\r\n",
    "'''\r\n",
    "def train_ner_model(trainig_data_init): \r\n",
    "\r\n",
    "    examples = []\r\n",
    "    losses = {}\r\n",
    "    for text, annots in trainig_data_init:\r\n",
    "        examples.append(Example.from_dict(nlp.make_doc(text), annots))\r\n",
    "\r\n",
    "        \r\n",
    "    optimizer = nlp.initialize(lambda: examples)\r\n",
    "\r\n",
    "    for i in range(50):\r\n",
    "        random.shuffle(examples)\r\n",
    "        for batch in minibatch(examples, size = compounding(1., 32., 1.001)):\r\n",
    "            nlp.update(\r\n",
    "                batch,\r\n",
    "                drop=0.2,\r\n",
    "                sgd=optimizer,\r\n",
    "                losses = losses,\r\n",
    "            )\r\n",
    "    print(\"Losses: \", losses)\r\n",
    "    current_loss = losses[\"ner\"]\r\n",
    "\r\n",
    "    nlp.to_disk(\"../training/ner_model\")\r\n",
    "    return current_loss"
   ],
   "outputs": [],
   "metadata": {}
  },
  {
   "cell_type": "code",
   "execution_count": 4,
   "source": [
    "current_loss = train_ner_model(training_data_init)"
   ],
   "outputs": [
    {
     "output_type": "stream",
     "name": "stdout",
     "text": [
      "Losses:  {'ner': 8928.782519897488}\n"
     ]
    }
   ],
   "metadata": {}
  },
  {
   "cell_type": "code",
   "execution_count": 5,
   "source": [
    "'''\r\n",
    "@author Ervin Joa\r\n",
    "\r\n",
    "Method for the continuation training with SpaCy. After\r\n",
    "each tme this function is called, the model will be retrained and\r\n",
    "updated for the data-inputed.\r\n",
    "\r\n",
    "@param train_data: Training Data based on the GOLD-Format\r\n",
    "@return current_loss: Loss of the current training epoch\r\n",
    "'''\r\n",
    "\r\n",
    "def resume_train_ner_model(train_data):\r\n",
    "    nlp = spacy.load(\"../training/ner_model\")\r\n",
    "\r\n",
    "    examples = []\r\n",
    "    losses = {}\r\n",
    "    for text, annots in train_data:\r\n",
    "        examples.append(Example.from_dict(nlp.make_doc(text), annots))\r\n",
    "\r\n",
    "    optimizer_resume = nlp.resume_training()\r\n",
    "\r\n",
    "    for i in range(50):\r\n",
    "        random.shuffle(examples)\r\n",
    "        for batch in minibatch(examples, size = compounding(1., 32., 1.001)):\r\n",
    "            nlp.update(\r\n",
    "                batch,\r\n",
    "                drop=0.2,\r\n",
    "                sgd=optimizer_resume,\r\n",
    "                losses = losses,\r\n",
    "            )\r\n",
    "    current_loss = losses[\"ner\"]\r\n",
    "\r\n",
    "    nlp.to_disk(\"../training/ner_model\")\r\n",
    "    return current_loss"
   ],
   "outputs": [],
   "metadata": {}
  },
  {
   "cell_type": "code",
   "execution_count": 6,
   "source": [
    "'''\r\n",
    "@author Ervin Joa\r\n",
    "\r\n",
    "This method transformes a feature to the curresponding\r\n",
    "GOD-standard set of items, which will be used\r\n",
    "for SpaCys training.\r\n",
    "\r\n",
    "@param datadf: unput dataframe with the feature\r\n",
    "@param label: label to be given for entry\r\n",
    "@param colname: column name of the feature in the input dataframe\r\n",
    "\r\n",
    "@return list\r\n",
    "'''\r\n",
    "def from_csv_to_train_data(datadf, label, colname):\r\n",
    "    output = []\r\n",
    "    datadf[colname] = datadf[colname].astype(str)\r\n",
    "    for index, row in datadf.iterrows():\r\n",
    "        char_start = 0\r\n",
    "        char_end = len(row[colname])\r\n",
    "        output_row = (row[colname], {\"entities\":[(char_start, char_end, label)]})\r\n",
    "        output.append(output_row)\r\n",
    "    return output\r\n",
    "        "
   ],
   "outputs": [],
   "metadata": {}
  },
  {
   "cell_type": "code",
   "execution_count": 7,
   "source": [
    "'''\r\n",
    "@author Ervin Joa\r\n",
    "\r\n",
    "Method fpr creating a new feature, with which the number\r\n",
    "of words per entry will be filtered.\r\n",
    "The goal is to avoid training large sentances, which can\r\n",
    "overfit the model and to only train keywords or entities whith\r\n",
    "multiple words beloging to it. e.g. \"Type 2 Diabetes\"\r\n",
    "\r\n",
    "@param df: dataframe containing the feature\r\n",
    "@param colname: column name of the feature in the input dataframe\r\n",
    "\r\n",
    "@return filtered dataframe\r\n",
    "'''\r\n",
    "def filter_dataframe_count(df, col_name):\r\n",
    "    df['word_count'] = df[col_name].str.split().str.len()\r\n",
    "    df_new = df[(df['word_count'] <= 4) & (df['word_count'] > 1)].drop(columns=[\"word_count\"], axis=0)\r\n",
    "\r\n",
    "    return df_new.reset_index(drop=True)"
   ],
   "outputs": [],
   "metadata": {}
  },
  {
   "cell_type": "code",
   "execution_count": 8,
   "source": [
    "# import of the extracted data from ACCT\r\n",
    "data_vars = pd.read_csv(\"../training/training_data/varaible_data.csv\")\r\n",
    "data_refs = pd.read_csv(\"../training/training_data/reference_data.csv\")\r\n",
    "data_timepoint_1 = pd.read_csv(\"../training/training_data/timepoint_data.csv\")\r\n",
    "data_change = pd.read_csv(\"../training/training_data/change_data.csv\")\r\n",
    "data_condition = pd.read_csv(\"../training/training_data/condition_data.csv\")\r\n",
    "\r\n",
    "# droping empty entries\r\n",
    "data_vars.dropna(inplace=True)\r\n",
    "data_refs.dropna(inplace=True)\r\n",
    "data_timepoint_1.dropna(inplace=True)\r\n",
    "data_change.dropna(inplace=True)\r\n",
    "data_condition.dropna(inplace=True)\r\n",
    "\r\n",
    "# For all Files filter data-entries that are <= 4 words\r\n",
    "data_vars = filter_dataframe_count(data_vars, data_vars.iloc[:, 0].name)\r\n",
    "data_timepoint_1 = filter_dataframe_count(data_timepoint_1, data_timepoint_1.iloc[:, 0].name)\r\n",
    "data_change = filter_dataframe_count(data_change, data_change.iloc[:, 0].name)\r\n",
    "data_condition = filter_dataframe_count(data_condition, data_condition.iloc[:, 0].name)\r\n",
    "\r\n",
    "# Transfomration of the data to the corresponding training-format (GOLD-standard) lists\r\n",
    "data_var_training = from_csv_to_train_data(data_vars, \"Variable\", \"units_analyzed\")\r\n",
    "data_ref_training = from_csv_to_train_data(data_refs, \"Reference\", \"param_type\")\r\n",
    "data_timepoint_training = from_csv_to_train_data(data_timepoint_1, \"Timepoint\", \"target_duration\")\r\n",
    "data_change_training = from_csv_to_train_data(data_change, \"Change\", \"units\")\r\n",
    "data_condition_training = from_csv_to_train_data(data_condition, \"Condition\", \"name\")"
   ],
   "outputs": [],
   "metadata": {}
  },
  {
   "cell_type": "code",
   "execution_count": 9,
   "source": [
    "'''\r\n",
    "@author Ervin Joa\r\n",
    "\r\n",
    "Main training-loop:\r\n",
    "\r\n",
    "    While the number of training-iterations < 21:\r\n",
    "        continue extracting random shuffled training data and retrain the model;\r\n",
    "'''\r\n",
    "num_training_iter = 1\r\n",
    "\r\n",
    "# 20 epoch, since ner-losses typically plateu after this value\r\n",
    "while num_training_iter < 21:\r\n",
    "    # Due to huge amount of data, randomize and select first 200 entries\r\n",
    "    data_var_training_random = random.sample(data_var_training, len(data_var_training))\r\n",
    "    data_change_training_random = random.sample(data_change_training, len(data_change_training))\r\n",
    "    data_condition_training_random = random.sample(data_condition_training, len(data_condition_training))\r\n",
    "\r\n",
    "    # Creation of the training dataset for training \r\n",
    "    training_data = data_ref_training + data_change_training_random[0:200] + data_timepoint_training + \\\r\n",
    "    data_var_training_random[0:200] + data_condition_training_random[0:200] + train_data_init\r\n",
    "\r\n",
    "    # Shuffeling and selecting the first 200 entries for training\r\n",
    "    data_to_train = random.sample(training_data, len(training_data))\r\n",
    "    data_to_train_portion = data_to_train[0:200]\r\n",
    "\r\n",
    "    # Training and display of the traing-loss for each session\r\n",
    "    current_loss = resume_train_ner_model(data_to_train_portion)\r\n",
    "    print(f\"Done Training iteration epoch Nr. {num_training_iter} with loss of {current_loss}\")\r\n",
    "    num_training_iter+=1\r\n",
    "    "
   ],
   "outputs": [
    {
     "output_type": "stream",
     "name": "stdout",
     "text": [
      "Done Training iteration epoch Nr. 1 with loss of 2053.201431748315\n",
      "Done Training iteration epoch Nr. 2 with loss of 1416.739391536687\n",
      "Done Training iteration epoch Nr. 3 with loss of 1567.2378504293465\n",
      "Done Training iteration epoch Nr. 4 with loss of 1450.479927350355\n",
      "Done Training iteration epoch Nr. 5 with loss of 1045.8071162253398\n",
      "Done Training iteration epoch Nr. 6 with loss of 2061.7157966570703\n",
      "Done Training iteration epoch Nr. 7 with loss of 942.0956782751825\n",
      "Done Training iteration epoch Nr. 8 with loss of 1024.360110468681\n",
      "Done Training iteration epoch Nr. 9 with loss of 929.5616843582495\n",
      "Done Training iteration epoch Nr. 10 with loss of 783.3708781466682\n",
      "Done Training iteration epoch Nr. 11 with loss of 493.1286495073215\n",
      "Done Training iteration epoch Nr. 12 with loss of 819.1708668245018\n",
      "Done Training iteration epoch Nr. 13 with loss of 1254.6247862063992\n",
      "Done Training iteration epoch Nr. 14 with loss of 1031.9637345997496\n",
      "Done Training iteration epoch Nr. 15 with loss of 808.4945205881385\n",
      "Done Training iteration epoch Nr. 16 with loss of 990.6284462979227\n",
      "Done Training iteration epoch Nr. 17 with loss of 1202.3142811761409\n",
      "Done Training iteration epoch Nr. 18 with loss of 721.7018447036241\n",
      "Done Training iteration epoch Nr. 19 with loss of 1257.7924796911718\n",
      "Done Training iteration epoch Nr. 20 with loss of 802.6033510697879\n"
     ]
    }
   ],
   "metadata": {}
  },
  {
   "cell_type": "code",
   "execution_count": 10,
   "source": [
    "# For the usage of the SpaCy annotator\r\n",
    "\r\n",
    "#nlp_annot = spacy.load(\"../training/ner_model\")\r\n",
    "#data_filtered_raw= pd.read_csv(\"../backend/input_data_filtered.csv\")\r\n",
    "#annotator = spa.Annotator(labels = [\"Condition\", \"Reference\", \"Change\", \"Timepoint\", \"Variable\"], model = nlp_annot)\r\n",
    "#df_labels = annotator.annotate(df = data_filtered_raw[0:100], col_text = \"PrimaryOutcomeMeasure\", shuffle = True)\r\n"
   ],
   "outputs": [],
   "metadata": {}
  },
  {
   "cell_type": "code",
   "execution_count": 11,
   "source": [
    "#print(list(df_labels[\"annotations\"]))"
   ],
   "outputs": [],
   "metadata": {}
  },
  {
   "cell_type": "code",
   "execution_count": 47,
   "source": [
    "\r\n",
    "from spacy.scorer import Scorer\r\n",
    "\r\n",
    "def evaluate(data):\r\n",
    "    ner_model = spacy.load(\"../training/ner_model\")\r\n",
    "    scorer = Scorer(ner_model)\r\n",
    "\r\n",
    "    example = []\r\n",
    "    for input_, annot in data:\r\n",
    "        pred = ner_model(input_)\r\n",
    "        temp = Example.from_dict(pred, dict.fromkeys(annot))\r\n",
    "        example.append(temp)\r\n",
    "    scores = scorer.score(example)\r\n",
    "\r\n",
    "    return scores\r\n",
    "\r\n",
    "data_to_eval_full = data_ref_training + data_change_training_random + data_timepoint_training + \\\r\n",
    "    data_var_training_random + data_condition_training_random + train_data_init\r\n",
    "\r\n",
    "# Shuffeling and selecting 50% of the data to evaluate the model\r\n",
    "data_to_eval = random.sample(training_data, len(training_data)//2)\r\n",
    "\r\n",
    "results = evaluate(data_to_eval)\r\n",
    "print(results)"
   ],
   "outputs": [
    {
     "output_type": "stream",
     "name": "stdout",
     "text": [
      "{'token_acc': 1.0, 'token_p': 1.0, 'token_r': 1.0, 'token_f': 1.0, 'ents_p': None, 'ents_r': None, 'ents_f': None, 'ents_per_type': None}\n"
     ]
    }
   ],
   "metadata": {}
  }
 ],
 "metadata": {
  "interpreter": {
   "hash": "b3ba2566441a7c06988d0923437866b63cedc61552a5af99d1f4fb67d367b25f"
  },
  "kernelspec": {
   "name": "python3",
   "display_name": "Python 3.8.8 64-bit ('base': conda)"
  },
  "language_info": {
   "codemirror_mode": {
    "name": "ipython",
    "version": 3
   },
   "file_extension": ".py",
   "mimetype": "text/x-python",
   "name": "python",
   "nbconvert_exporter": "python",
   "pygments_lexer": "ipython3",
   "version": "3.8.8"
  },
  "orig_nbformat": 2
 },
 "nbformat": 4,
 "nbformat_minor": 2
}