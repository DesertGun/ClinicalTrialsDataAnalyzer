{
 "cells": [
  {
   "cell_type": "code",
   "execution_count": 1,
   "source": [
    "import spacy, random\r\n",
    "from spacy.util import minibatch, compounding\r\n",
    "from spacy.training import Example\r\n",
    "import pandas as pd"
   ],
   "outputs": [],
   "metadata": {}
  },
  {
   "cell_type": "code",
   "execution_count": 3,
   "source": [
    "# Loading the Model\r\n",
    "nlp = spacy.load(\"./training/ner_model\")"
   ],
   "outputs": [],
   "metadata": {}
  },
  {
   "cell_type": "code",
   "execution_count": 31,
   "source": [
    "def process_text_entry(nctid, condition, text, endpoint_art, pointer, timepoint):\r\n",
    "    dfTemp = pd.DataFrame(columns=[\"NCTId\",\"Condition\",\"Change\",\"Reference\", \"Variable\", \"Timepoint\", \"Endpoint Art\"])\r\n",
    "\r\n",
    "    target = nlp(text)\r\n",
    "    print(target.ents)\r\n",
    "    target_list = list(target.ents)\r\n",
    "    ref_list=[]\r\n",
    "    for el in target_list:\r\n",
    "        if el.label_ == \"Reference\":\r\n",
    "            print(el.text)\r\n",
    "            ref_list.append(el.text)\r\n",
    "    ref_srt=\", \".join(map(str, ref_list))\r\n",
    "    print(ref_srt)\r\n",
    "    for entity in target.ents:\r\n",
    "        dfTemp.at[pointer,\"NCTId\"]=nctid\r\n",
    "        dfTemp.at[pointer,\"Condition\"]=condition\r\n",
    "        if entity.label_ != \"Condition\":\r\n",
    "            dfTemp[entity.label_]=entity.text\r\n",
    "        dfTemp.at[pointer,\"Endpoint Art\"]=endpoint_art\r\n",
    "        if entity.label_ == \"Reference\":\r\n",
    "             dfTemp[entity.label_]=ref_srt\r\n",
    "        if entity.label_ != \"Timepoint\":\r\n",
    "            dfTemp.at[pointer, \"Timepoint\"] = timepoint\r\n",
    "    return dfTemp"
   ],
   "outputs": [],
   "metadata": {}
  },
  {
   "cell_type": "code",
   "execution_count": 9,
   "source": [
    "text=\"Adjusted Mean Change From Baseline, against Baseline, Baseline, in Diabetes\"\r\n",
    "nctid=\"1234\"\r\n",
    "condition=\"Diabetes\"\r\n",
    "endointart=\"Primary\"\r\n",
    "pointer=0\r\n",
    "timepoint=\"2 months\""
   ],
   "outputs": [],
   "metadata": {}
  },
  {
   "cell_type": "code",
   "execution_count": 32,
   "source": [
    "process_text_entry(nctid, condition, text,endointart, pointer, timepoint)"
   ],
   "outputs": [
    {
     "output_type": "stream",
     "name": "stdout",
     "text": [
      "(Adjusted Mean Change, Baseline, Baseline, Baseline)\n",
      "Baseline\n",
      "Baseline\n",
      "Baseline\n",
      "Baseline, Baseline, Baseline\n"
     ]
    },
    {
     "output_type": "execute_result",
     "data": {
      "text/plain": [
       "  NCTId Condition                Change                     Reference  \\\n",
       "0  1234  Diabetes  Adjusted Mean Change  Baseline, Baseline, Baseline   \n",
       "\n",
       "  Variable Timepoint Endpoint Art  \n",
       "0      NaN  2 months      Primary  "
      ],
      "text/html": [
       "<div>\n",
       "<style scoped>\n",
       "    .dataframe tbody tr th:only-of-type {\n",
       "        vertical-align: middle;\n",
       "    }\n",
       "\n",
       "    .dataframe tbody tr th {\n",
       "        vertical-align: top;\n",
       "    }\n",
       "\n",
       "    .dataframe thead th {\n",
       "        text-align: right;\n",
       "    }\n",
       "</style>\n",
       "<table border=\"1\" class=\"dataframe\">\n",
       "  <thead>\n",
       "    <tr style=\"text-align: right;\">\n",
       "      <th></th>\n",
       "      <th>NCTId</th>\n",
       "      <th>Condition</th>\n",
       "      <th>Change</th>\n",
       "      <th>Reference</th>\n",
       "      <th>Variable</th>\n",
       "      <th>Timepoint</th>\n",
       "      <th>Endpoint Art</th>\n",
       "    </tr>\n",
       "  </thead>\n",
       "  <tbody>\n",
       "    <tr>\n",
       "      <th>0</th>\n",
       "      <td>1234</td>\n",
       "      <td>Diabetes</td>\n",
       "      <td>Adjusted Mean Change</td>\n",
       "      <td>Baseline, Baseline, Baseline</td>\n",
       "      <td>NaN</td>\n",
       "      <td>2 months</td>\n",
       "      <td>Primary</td>\n",
       "    </tr>\n",
       "  </tbody>\n",
       "</table>\n",
       "</div>"
      ]
     },
     "metadata": {},
     "execution_count": 32
    }
   ],
   "metadata": {}
  }
 ],
 "metadata": {
  "orig_nbformat": 4,
  "language_info": {
   "name": "python",
   "version": "3.8.8",
   "mimetype": "text/x-python",
   "codemirror_mode": {
    "name": "ipython",
    "version": 3
   },
   "pygments_lexer": "ipython3",
   "nbconvert_exporter": "python",
   "file_extension": ".py"
  },
  "kernelspec": {
   "name": "python3",
   "display_name": "Python 3.8.8 64-bit ('base': conda)"
  },
  "interpreter": {
   "hash": "b524764304a94373f3ad429b196b92e97095fa8b79814d457589490229350f1d"
  }
 },
 "nbformat": 4,
 "nbformat_minor": 2
}