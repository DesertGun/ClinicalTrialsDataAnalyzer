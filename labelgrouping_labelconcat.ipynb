{
 "cells": [
  {
   "cell_type": "code",
   "execution_count": 17,
   "source": [
    "import spacy, random\r\n",
    "from spacy.util import minibatch, compounding\r\n",
    "from spacy.training import Example\r\n",
    "import pandas as pd"
   ],
   "outputs": [],
   "metadata": {}
  },
  {
   "cell_type": "code",
   "execution_count": 18,
   "source": [
    "# Loading the Model\r\n",
    "nlp = spacy.load(\"./training/ner_model\")"
   ],
   "outputs": [],
   "metadata": {}
  },
  {
   "cell_type": "code",
   "execution_count": 19,
   "source": [
    "def get_labels(target_list):\r\n",
    "    label_list=[]\r\n",
    "\r\n",
    "    for el in target_list:\r\n",
    "        if el.label_ == \"Reference\" or el.label_ == \"Variable\":\r\n",
    "            print(el.text)\r\n",
    "            label_list.append(el.text)\r\n",
    "\r\n",
    "    label_list = list(set(label_list))\r\n",
    "\r\n",
    "    label_str = \", \".join(map(str, label_list))\r\n",
    "    print(label_str)\r\n",
    "    return label_str"
   ],
   "outputs": [],
   "metadata": {}
  },
  {
   "cell_type": "code",
   "execution_count": 20,
   "source": [
    "def process_text_entry(nctid, condition, text, endpoint_art, pointer, timepoint):\r\n",
    "    dfTemp = pd.DataFrame(columns=[\"NCTId\",\"Condition\",\"Change\",\"Reference\", \"Variable\", \"Timepoint\", \"Endpoint Art\"])\r\n",
    "\r\n",
    "    target = nlp(text)\r\n",
    "    \r\n",
    "    target_list = list(target.ents)\r\n",
    "\r\n",
    "    label_str =  get_labels(target_list)\r\n",
    "    \r\n",
    "\r\n",
    "    for entity in target.ents:\r\n",
    "        dfTemp.at[pointer,\"NCTId\"]=nctid\r\n",
    "        dfTemp.at[pointer,\"Condition\"]=condition\r\n",
    "        if entity.label_ != \"Condition\":\r\n",
    "            dfTemp[entity.label_]=entity.text\r\n",
    "        dfTemp.at[pointer,\"Endpoint Art\"]=endpoint_art\r\n",
    "        if entity.label_ == \"Reference\" or entity.label_ == \"Variable\":\r\n",
    "             dfTemp[entity.label_]= label_str\r\n",
    "        if entity.label_ != \"Timepoint\":\r\n",
    "            dfTemp.at[pointer, \"Timepoint\"] = timepoint\r\n",
    "    return dfTemp"
   ],
   "outputs": [],
   "metadata": {}
  },
  {
   "cell_type": "code",
   "execution_count": 21,
   "source": [
    "text=\"Adjusted Mean Change From Baseline, at Baseline measurments, in Diabetes\"\r\n",
    "nctid=\"1234\"\r\n",
    "condition=\"Diabetes\"\r\n",
    "endointart=\"Primary\"\r\n",
    "pointer=0\r\n",
    "timepoint=\"2 months\""
   ],
   "outputs": [],
   "metadata": {}
  },
  {
   "cell_type": "code",
   "execution_count": 22,
   "source": [
    "process_text_entry(nctid, condition, text,endointart, pointer, timepoint)"
   ],
   "outputs": [
    {
     "output_type": "stream",
     "name": "stdout",
     "text": [
      "(Adjusted Mean Change, Baseline, Baseline)\n",
      "Baseline\n",
      "Baseline\n",
      "Baseline\n"
     ]
    },
    {
     "output_type": "execute_result",
     "data": {
      "text/plain": [
       "  NCTId Condition                Change Reference Variable Timepoint  \\\n",
       "0  1234  Diabetes  Adjusted Mean Change  Baseline      NaN  2 months   \n",
       "\n",
       "  Endpoint Art  \n",
       "0      Primary  "
      ],
      "text/html": [
       "<div>\n",
       "<style scoped>\n",
       "    .dataframe tbody tr th:only-of-type {\n",
       "        vertical-align: middle;\n",
       "    }\n",
       "\n",
       "    .dataframe tbody tr th {\n",
       "        vertical-align: top;\n",
       "    }\n",
       "\n",
       "    .dataframe thead th {\n",
       "        text-align: right;\n",
       "    }\n",
       "</style>\n",
       "<table border=\"1\" class=\"dataframe\">\n",
       "  <thead>\n",
       "    <tr style=\"text-align: right;\">\n",
       "      <th></th>\n",
       "      <th>NCTId</th>\n",
       "      <th>Condition</th>\n",
       "      <th>Change</th>\n",
       "      <th>Reference</th>\n",
       "      <th>Variable</th>\n",
       "      <th>Timepoint</th>\n",
       "      <th>Endpoint Art</th>\n",
       "    </tr>\n",
       "  </thead>\n",
       "  <tbody>\n",
       "    <tr>\n",
       "      <th>0</th>\n",
       "      <td>1234</td>\n",
       "      <td>Diabetes</td>\n",
       "      <td>Adjusted Mean Change</td>\n",
       "      <td>Baseline</td>\n",
       "      <td>NaN</td>\n",
       "      <td>2 months</td>\n",
       "      <td>Primary</td>\n",
       "    </tr>\n",
       "  </tbody>\n",
       "</table>\n",
       "</div>"
      ]
     },
     "metadata": {},
     "execution_count": 22
    }
   ],
   "metadata": {}
  }
 ],
 "metadata": {
  "orig_nbformat": 4,
  "language_info": {
   "name": "python",
   "version": "3.8.8",
   "mimetype": "text/x-python",
   "codemirror_mode": {
    "name": "ipython",
    "version": 3
   },
   "pygments_lexer": "ipython3",
   "nbconvert_exporter": "python",
   "file_extension": ".py"
  },
  "kernelspec": {
   "name": "python3",
   "display_name": "Python 3.8.8 64-bit ('base': conda)"
  },
  "interpreter": {
   "hash": "b524764304a94373f3ad429b196b92e97095fa8b79814d457589490229350f1d"
  }
 },
 "nbformat": 4,
 "nbformat_minor": 2
}